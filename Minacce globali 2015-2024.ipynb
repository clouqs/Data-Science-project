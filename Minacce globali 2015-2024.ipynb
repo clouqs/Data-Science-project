{
 "cells": [
  {
   "cell_type": "markdown",
   "id": "d7a2b03c",
   "metadata": {},
   "source": [
    "<p style=\"text-align:center; font-size:24px; font-weight:bold;\">Global Cybersecurity Threats (2015-2024)</p>\n",
    "<p style=\"text-align:center;\">Il dataset \"Global Cybersecurity Threats (2015-2024)\" offre una panoramica completa dei principali attacchi informatici registrati a livello mondiale dal 2015 al 2024, catturando informazioni dettagliate su 3000 incidenti. I dati rivelano che settori critici come quello bancario, sanitario e delle telecomunicazioni hanno subito il maggior numero di attacchi, con vastissime perdite finanziarie che in alcuni casi superano i 90 milioni di dollari per singolo incidente. Paesi come Brasile, India e Gran Bretagna emergono come i più colpiti, mentre tecniche di attacco come DDoS, phishing e SQL injection dominano il panorama delle minacce.\n",
    "</p>\n",
    "\n",
    "---"
   ]
  },
  {
   "cell_type": "markdown",
   "id": "2c58177c-a905-435c-b31c-8b71a6846b40",
   "metadata": {},
   "source": [
    "![Testo alternativo](assets/image/iStock-1271613373.jpg)"
   ]
  },
  {
   "cell_type": "markdown",
   "id": "ae3aff7a-e4c8-47b1-8936-e5ec77941539",
   "metadata": {},
   "source": [
    "# Indice della presentazione\n",
    "\n",
    "* Importazione e anteprima del dataset\n",
    "* Mappe coropletiche e heatmap\n",
    "* Grafici generici\n",
    "* Trend annuali\n",
    "* Numero di attacchi per paese\n",
    "* Fit grafici e mode\n",
    "* Analisi predittiva"
   ]
  },
  {
   "cell_type": "markdown",
   "id": "0f8f754c-148b-4c00-853e-6f416d1e9b20",
   "metadata": {},
   "source": [
    "# Importiamo le librerie"
   ]
  },
  {
   "cell_type": "code",
   "execution_count": 1,
   "id": "f9d25ea0-cbbf-4339-9ff4-799fa6717365",
   "metadata": {},
   "outputs": [],
   "source": [
    "import pandas as pd\n",
    "import numpy as np\n",
    "import seaborn as sns\n",
    "import matplotlib.pyplot as plt\n",
    "from matplotlib.ticker import FuncFormatter\n",
    "import plotly.express as px\n",
    "import plotly.graph_objects as go"
   ]
  },
  {
   "cell_type": "markdown",
   "id": "57e55aaa-8b9e-4e10-80a9-d272a66e32a4",
   "metadata": {},
   "source": [
    "# Carichiamo il dataset (con handling degli errori)"
   ]
  },
  {
   "cell_type": "code",
   "execution_count": 2,
   "id": "1d0d92bf-0841-4a5c-a860-cfebf86bc969",
   "metadata": {},
   "outputs": [
    {
     "name": "stdout",
     "output_type": "stream",
     "text": [
      "File caricato correttamente.\n"
     ]
    }
   ],
   "source": [
    "try:\n",
    "    df = pd.read_csv(\"assets/Global_Cybersecurity_Threats_2015-2024 - edit.csv\")\n",
    "except FileNotFoundError:\n",
    "    print(\"Errore: il dataset non è stato trovato.\")\n",
    "except pd.errors.EmptyDataError:\n",
    "    print(\"Errore: il file è vuoto.\")\n",
    "except pd.errors.ParserError:\n",
    "    print(\"Errore: problema nel parsing del CSV.\")\n",
    "except Exception as e:\n",
    "    print(f\"Si è verificato un errore imprevisto: {e}\")\n",
    "else:\n",
    "    print(\"File caricato correttamente.\")"
   ]
  },
  {
   "cell_type": "markdown",
   "id": "9f3d30e5-cb78-4dd7-af0a-fa093d4f0a38",
   "metadata": {},
   "source": [
    "# Controllo del dataset\n",
    "\n",
    "D'ora in poi ci si riferirà al dataset come \"df\""
   ]
  },
  {
   "cell_type": "code",
   "execution_count": 3,
   "id": "ba41f9e0-e640-4f15-bb70-06c3df161c2a",
   "metadata": {
    "scrolled": true
   },
   "outputs": [
    {
     "data": {
      "text/html": [
       "<span style=\"color:cyan; font-weight:bold;\">dimensioni df</span>"
      ],
      "text/plain": [
       "<IPython.core.display.HTML object>"
      ]
     },
     "metadata": {},
     "output_type": "display_data"
    },
    {
     "name": "stdout",
     "output_type": "stream",
     "text": [
      "(3000, 10)\n",
      "\n"
     ]
    },
    {
     "data": {
      "text/html": [
       "<span style=\"color:green; font-weight:bold;\">informazioni df</span>"
      ],
      "text/plain": [
       "<IPython.core.display.HTML object>"
      ]
     },
     "metadata": {},
     "output_type": "display_data"
    },
    {
     "name": "stdout",
     "output_type": "stream",
     "text": [
      "<class 'pandas.core.frame.DataFrame'>\n",
      "RangeIndex: 3000 entries, 0 to 2999\n",
      "Data columns (total 10 columns):\n",
      " #   Column                               Non-Null Count  Dtype  \n",
      "---  ------                               --------------  -----  \n",
      " 0   Country                              3000 non-null   object \n",
      " 1   Year                                 3000 non-null   int64  \n",
      " 2   Attack Type                          3000 non-null   object \n",
      " 3   Target Industry                      3000 non-null   object \n",
      " 4   Financial Loss (in Million $)        3000 non-null   float64\n",
      " 5   Number of Affected Users             3000 non-null   int64  \n",
      " 6   Attack Source                        3000 non-null   object \n",
      " 7   Security Vulnerability Type          3000 non-null   object \n",
      " 8   Defense Mechanism Used               3000 non-null   object \n",
      " 9   Incident Resolution Time (in Hours)  3000 non-null   int64  \n",
      "dtypes: float64(1), int64(3), object(6)\n",
      "memory usage: 234.5+ KB\n",
      "\n"
     ]
    },
    {
     "data": {
      "text/html": [
       "<span style=\"color:orange; font-weight:bold;\">elementi nulli nel df</span>"
      ],
      "text/plain": [
       "<IPython.core.display.HTML object>"
      ]
     },
     "metadata": {},
     "output_type": "display_data"
    },
    {
     "name": "stdout",
     "output_type": "stream",
     "text": [
      "Country                                0\n",
      "Year                                   0\n",
      "Attack Type                            0\n",
      "Target Industry                        0\n",
      "Financial Loss (in Million $)          0\n",
      "Number of Affected Users               0\n",
      "Attack Source                          0\n",
      "Security Vulnerability Type            0\n",
      "Defense Mechanism Used                 0\n",
      "Incident Resolution Time (in Hours)    0\n",
      "dtype: int64\n",
      "\n"
     ]
    },
    {
     "data": {
      "text/html": [
       "<span style=\"color:magenta; font-weight:bold;\">statistiche (generali) del df</span>"
      ],
      "text/plain": [
       "<IPython.core.display.HTML object>"
      ]
     },
     "metadata": {},
     "output_type": "display_data"
    },
    {
     "name": "stdout",
     "output_type": "stream",
     "text": [
      "              Year  Financial Loss (in Million $)  Number of Affected Users  \\\n",
      "count  3000.000000                    3000.000000               3000.000000   \n",
      "mean   2019.570333                      50.492970             504684.136333   \n",
      "std       2.857932                      28.791415             289944.084972   \n",
      "min    2015.000000                       0.500000                424.000000   \n",
      "25%    2017.000000                      25.757500             255805.250000   \n",
      "50%    2020.000000                      50.795000             504513.000000   \n",
      "75%    2022.000000                      75.630000             758088.500000   \n",
      "max    2024.000000                      99.990000             999635.000000   \n",
      "\n",
      "       Incident Resolution Time (in Hours)  \n",
      "count                          3000.000000  \n",
      "mean                             36.476000  \n",
      "std                              20.570768  \n",
      "min                               1.000000  \n",
      "25%                              19.000000  \n",
      "50%                              37.000000  \n",
      "75%                              55.000000  \n",
      "max                              72.000000  \n",
      "\n"
     ]
    }
   ],
   "source": [
    "from IPython.display import display, HTML\n",
    "\n",
    "display(HTML('<span style=\"color:cyan; font-weight:bold;\">dimensioni df</span>'))\n",
    "print(f\"{df.shape}\\n\")\n",
    "\n",
    "display(HTML('<span style=\"color:green; font-weight:bold;\">informazioni df</span>'))\n",
    "df.info()\n",
    "print()\n",
    "\n",
    "display(HTML('<span style=\"color:orange; font-weight:bold;\">elementi nulli nel df</span>'))\n",
    "print(f\"{df.isnull().sum()}\\n\")\n",
    "\n",
    "display(HTML('<span style=\"color:magenta; font-weight:bold;\">statistiche (generali) del df</span>'))\n",
    "print(f\"{df.describe()}\\n\")\n"
   ]
  },
  {
   "cell_type": "markdown",
   "id": "0acc80f4-faea-4e81-aaca-54bec0961e80",
   "metadata": {},
   "source": [
    "# Anteprima del dataset (prime 10 righe)"
   ]
  },
  {
   "cell_type": "code",
   "execution_count": 4,
   "id": "bb6fbd6a-0b01-4137-a4dd-b08d203f1bd6",
   "metadata": {
    "scrolled": true
   },
   "outputs": [
    {
     "data": {
      "text/html": [
       "<style type=\"text/css\">\n",
       "#T_12e83 th {\n",
       "  background-color: #4472C4;\n",
       "  color: white;\n",
       "  font-weight: bold;\n",
       "}\n",
       "#T_12e83_row0_col0, #T_12e83_row0_col1, #T_12e83_row0_col2, #T_12e83_row0_col3, #T_12e83_row0_col6, #T_12e83_row0_col7, #T_12e83_row0_col8, #T_12e83_row1_col0, #T_12e83_row1_col1, #T_12e83_row1_col2, #T_12e83_row1_col3, #T_12e83_row1_col6, #T_12e83_row1_col7, #T_12e83_row1_col8, #T_12e83_row2_col0, #T_12e83_row2_col1, #T_12e83_row2_col2, #T_12e83_row2_col3, #T_12e83_row2_col6, #T_12e83_row2_col7, #T_12e83_row2_col8, #T_12e83_row3_col0, #T_12e83_row3_col1, #T_12e83_row3_col2, #T_12e83_row3_col3, #T_12e83_row3_col6, #T_12e83_row3_col7, #T_12e83_row3_col8, #T_12e83_row4_col0, #T_12e83_row4_col1, #T_12e83_row4_col2, #T_12e83_row4_col3, #T_12e83_row4_col6, #T_12e83_row4_col7, #T_12e83_row4_col8, #T_12e83_row5_col0, #T_12e83_row5_col1, #T_12e83_row5_col2, #T_12e83_row5_col3, #T_12e83_row5_col6, #T_12e83_row5_col7, #T_12e83_row5_col8, #T_12e83_row6_col0, #T_12e83_row6_col1, #T_12e83_row6_col2, #T_12e83_row6_col3, #T_12e83_row6_col6, #T_12e83_row6_col7, #T_12e83_row6_col8, #T_12e83_row7_col0, #T_12e83_row7_col1, #T_12e83_row7_col2, #T_12e83_row7_col3, #T_12e83_row7_col6, #T_12e83_row7_col7, #T_12e83_row7_col8, #T_12e83_row8_col0, #T_12e83_row8_col1, #T_12e83_row8_col2, #T_12e83_row8_col3, #T_12e83_row8_col6, #T_12e83_row8_col7, #T_12e83_row8_col8, #T_12e83_row9_col0, #T_12e83_row9_col1, #T_12e83_row9_col2, #T_12e83_row9_col3, #T_12e83_row9_col6, #T_12e83_row9_col7, #T_12e83_row9_col8 {\n",
       "  border: 1px solid black;\n",
       "  text-align: center;\n",
       "  font-family: Arial;\n",
       "}\n",
       "#T_12e83_row0_col4 {\n",
       "  background-color: #056aa6;\n",
       "  color: #f1f1f1;\n",
       "  border: 1px solid black;\n",
       "  text-align: center;\n",
       "  font-family: Arial;\n",
       "}\n",
       "#T_12e83_row0_col5 {\n",
       "  background-color: #056ba7;\n",
       "  color: #f1f1f1;\n",
       "  border: 1px solid black;\n",
       "  text-align: center;\n",
       "  font-family: Arial;\n",
       "}\n",
       "#T_12e83_row0_col9 {\n",
       "  background-color: #04598c;\n",
       "  color: #f1f1f1;\n",
       "  border: 1px solid black;\n",
       "  text-align: center;\n",
       "  font-family: Arial;\n",
       "}\n",
       "#T_12e83_row1_col4 {\n",
       "  background-color: #589ec8;\n",
       "  color: #f1f1f1;\n",
       "  border: 1px solid black;\n",
       "  text-align: center;\n",
       "  font-family: Arial;\n",
       "}\n",
       "#T_12e83_row1_col5 {\n",
       "  background-color: #fdf5fa;\n",
       "  color: #000000;\n",
       "  border: 1px solid black;\n",
       "  text-align: center;\n",
       "  font-family: Arial;\n",
       "}\n",
       "#T_12e83_row1_col9, #T_12e83_row7_col5 {\n",
       "  background-color: #023858;\n",
       "  color: #f1f1f1;\n",
       "  border: 1px solid black;\n",
       "  text-align: center;\n",
       "  font-family: Arial;\n",
       "}\n",
       "#T_12e83_row2_col4 {\n",
       "  background-color: #cacee5;\n",
       "  color: #000000;\n",
       "  border: 1px solid black;\n",
       "  text-align: center;\n",
       "  font-family: Arial;\n",
       "}\n",
       "#T_12e83_row2_col5 {\n",
       "  background-color: #6da6cd;\n",
       "  color: #f1f1f1;\n",
       "  border: 1px solid black;\n",
       "  text-align: center;\n",
       "  font-family: Arial;\n",
       "}\n",
       "#T_12e83_row2_col9 {\n",
       "  background-color: #dad9ea;\n",
       "  color: #000000;\n",
       "  border: 1px solid black;\n",
       "  text-align: center;\n",
       "  font-family: Arial;\n",
       "}\n",
       "#T_12e83_row3_col4 {\n",
       "  background-color: #bfc9e1;\n",
       "  color: #000000;\n",
       "  border: 1px solid black;\n",
       "  text-align: center;\n",
       "  font-family: Arial;\n",
       "}\n",
       "#T_12e83_row3_col5 {\n",
       "  background-color: #4295c3;\n",
       "  color: #f1f1f1;\n",
       "  border: 1px solid black;\n",
       "  text-align: center;\n",
       "  font-family: Arial;\n",
       "}\n",
       "#T_12e83_row3_col9, #T_12e83_row5_col5 {\n",
       "  background-color: #fff7fb;\n",
       "  color: #000000;\n",
       "  border: 1px solid black;\n",
       "  text-align: center;\n",
       "  font-family: Arial;\n",
       "}\n",
       "#T_12e83_row4_col4 {\n",
       "  background-color: #157ab5;\n",
       "  color: #f1f1f1;\n",
       "  border: 1px solid black;\n",
       "  text-align: center;\n",
       "  font-family: Arial;\n",
       "}\n",
       "#T_12e83_row4_col5 {\n",
       "  background-color: #046096;\n",
       "  color: #f1f1f1;\n",
       "  border: 1px solid black;\n",
       "  text-align: center;\n",
       "  font-family: Arial;\n",
       "}\n",
       "#T_12e83_row4_col9 {\n",
       "  background-color: #03446a;\n",
       "  color: #f1f1f1;\n",
       "  border: 1px solid black;\n",
       "  text-align: center;\n",
       "  font-family: Arial;\n",
       "}\n",
       "#T_12e83_row5_col4 {\n",
       "  background-color: #023858;\n",
       "  color: #f1f1f1;\n",
       "  border: 1px solid black;\n",
       "  text-align: center;\n",
       "  font-family: Arial;\n",
       "  background-color: #E72525;\n",
       "}\n",
       "#T_12e83_row5_col9 {\n",
       "  background-color: #c5cce3;\n",
       "  color: #000000;\n",
       "  border: 1px solid black;\n",
       "  text-align: center;\n",
       "  font-family: Arial;\n",
       "}\n",
       "#T_12e83_row6_col4 {\n",
       "  background-color: #dbdaeb;\n",
       "  color: #000000;\n",
       "  border: 1px solid black;\n",
       "  text-align: center;\n",
       "  font-family: Arial;\n",
       "}\n",
       "#T_12e83_row6_col5 {\n",
       "  background-color: #d4d4e8;\n",
       "  color: #000000;\n",
       "  border: 1px solid black;\n",
       "  text-align: center;\n",
       "  font-family: Arial;\n",
       "}\n",
       "#T_12e83_row6_col9 {\n",
       "  background-color: #93b5d6;\n",
       "  color: #000000;\n",
       "  border: 1px solid black;\n",
       "  text-align: center;\n",
       "  font-family: Arial;\n",
       "}\n",
       "#T_12e83_row7_col4 {\n",
       "  background-color: #69a5cc;\n",
       "  color: #f1f1f1;\n",
       "  border: 1px solid black;\n",
       "  text-align: center;\n",
       "  font-family: Arial;\n",
       "}\n",
       "#T_12e83_row7_col9 {\n",
       "  background-color: #034c78;\n",
       "  color: #f1f1f1;\n",
       "  border: 1px solid black;\n",
       "  text-align: center;\n",
       "  font-family: Arial;\n",
       "}\n",
       "#T_12e83_row8_col4 {\n",
       "  background-color: #fff7fb;\n",
       "  color: #000000;\n",
       "  border: 1px solid black;\n",
       "  text-align: center;\n",
       "  font-family: Arial;\n",
       "  background-color: #16D316;\n",
       "}\n",
       "#T_12e83_row8_col5 {\n",
       "  background-color: #2786bb;\n",
       "  color: #f1f1f1;\n",
       "  border: 1px solid black;\n",
       "  text-align: center;\n",
       "  font-family: Arial;\n",
       "}\n",
       "#T_12e83_row8_col9 {\n",
       "  background-color: #358fc0;\n",
       "  color: #f1f1f1;\n",
       "  border: 1px solid black;\n",
       "  text-align: center;\n",
       "  font-family: Arial;\n",
       "}\n",
       "#T_12e83_row9_col4, #T_12e83_row9_col5 {\n",
       "  background-color: #2f8bbe;\n",
       "  color: #f1f1f1;\n",
       "  border: 1px solid black;\n",
       "  text-align: center;\n",
       "  font-family: Arial;\n",
       "}\n",
       "#T_12e83_row9_col9 {\n",
       "  background-color: #0567a2;\n",
       "  color: #f1f1f1;\n",
       "  border: 1px solid black;\n",
       "  text-align: center;\n",
       "  font-family: Arial;\n",
       "}\n",
       "</style>\n",
       "<table id=\"T_12e83\">\n",
       "  <caption>Anteprima del Dataset - tabella</caption>\n",
       "  <thead>\n",
       "    <tr>\n",
       "      <th class=\"blank level0\" >&nbsp;</th>\n",
       "      <th id=\"T_12e83_level0_col0\" class=\"col_heading level0 col0\" >Country</th>\n",
       "      <th id=\"T_12e83_level0_col1\" class=\"col_heading level0 col1\" >Year</th>\n",
       "      <th id=\"T_12e83_level0_col2\" class=\"col_heading level0 col2\" >Attack Type</th>\n",
       "      <th id=\"T_12e83_level0_col3\" class=\"col_heading level0 col3\" >Target Industry</th>\n",
       "      <th id=\"T_12e83_level0_col4\" class=\"col_heading level0 col4\" >Financial Loss (in Million $)</th>\n",
       "      <th id=\"T_12e83_level0_col5\" class=\"col_heading level0 col5\" >Number of Affected Users</th>\n",
       "      <th id=\"T_12e83_level0_col6\" class=\"col_heading level0 col6\" >Attack Source</th>\n",
       "      <th id=\"T_12e83_level0_col7\" class=\"col_heading level0 col7\" >Security Vulnerability Type</th>\n",
       "      <th id=\"T_12e83_level0_col8\" class=\"col_heading level0 col8\" >Defense Mechanism Used</th>\n",
       "      <th id=\"T_12e83_level0_col9\" class=\"col_heading level0 col9\" >Incident Resolution Time (in Hours)</th>\n",
       "    </tr>\n",
       "  </thead>\n",
       "  <tbody>\n",
       "    <tr>\n",
       "      <th id=\"T_12e83_level0_row0\" class=\"row_heading level0 row0\" >0</th>\n",
       "      <td id=\"T_12e83_row0_col0\" class=\"data row0 col0\" >China</td>\n",
       "      <td id=\"T_12e83_row0_col1\" class=\"data row0 col1\" >2019</td>\n",
       "      <td id=\"T_12e83_row0_col2\" class=\"data row0 col2\" >Phishing</td>\n",
       "      <td id=\"T_12e83_row0_col3\" class=\"data row0 col3\" >Education</td>\n",
       "      <td id=\"T_12e83_row0_col4\" class=\"data row0 col4\" >$80.53</td>\n",
       "      <td id=\"T_12e83_row0_col5\" class=\"data row0 col5\" >773,169</td>\n",
       "      <td id=\"T_12e83_row0_col6\" class=\"data row0 col6\" >Hacker Group</td>\n",
       "      <td id=\"T_12e83_row0_col7\" class=\"data row0 col7\" >Unpatched Software</td>\n",
       "      <td id=\"T_12e83_row0_col8\" class=\"data row0 col8\" >VPN</td>\n",
       "      <td id=\"T_12e83_row0_col9\" class=\"data row0 col9\" >63.0 ore</td>\n",
       "    </tr>\n",
       "    <tr>\n",
       "      <th id=\"T_12e83_level0_row1\" class=\"row_heading level0 row1\" >1</th>\n",
       "      <td id=\"T_12e83_row1_col0\" class=\"data row1 col0\" >China</td>\n",
       "      <td id=\"T_12e83_row1_col1\" class=\"data row1 col1\" >2019</td>\n",
       "      <td id=\"T_12e83_row1_col2\" class=\"data row1 col2\" >Ransomware</td>\n",
       "      <td id=\"T_12e83_row1_col3\" class=\"data row1 col3\" >Retail</td>\n",
       "      <td id=\"T_12e83_row1_col4\" class=\"data row1 col4\" >$62.19</td>\n",
       "      <td id=\"T_12e83_row1_col5\" class=\"data row1 col5\" >295,961</td>\n",
       "      <td id=\"T_12e83_row1_col6\" class=\"data row1 col6\" >Hacker Group</td>\n",
       "      <td id=\"T_12e83_row1_col7\" class=\"data row1 col7\" >Unpatched Software</td>\n",
       "      <td id=\"T_12e83_row1_col8\" class=\"data row1 col8\" >Firewall</td>\n",
       "      <td id=\"T_12e83_row1_col9\" class=\"data row1 col9\" >71.0 ore</td>\n",
       "    </tr>\n",
       "    <tr>\n",
       "      <th id=\"T_12e83_level0_row2\" class=\"row_heading level0 row2\" >2</th>\n",
       "      <td id=\"T_12e83_row2_col0\" class=\"data row2 col0\" >India</td>\n",
       "      <td id=\"T_12e83_row2_col1\" class=\"data row2 col1\" >2017</td>\n",
       "      <td id=\"T_12e83_row2_col2\" class=\"data row2 col2\" >Man-in-the-Middle</td>\n",
       "      <td id=\"T_12e83_row2_col3\" class=\"data row2 col3\" >IT</td>\n",
       "      <td id=\"T_12e83_row2_col4\" class=\"data row2 col4\" >$38.65</td>\n",
       "      <td id=\"T_12e83_row2_col5\" class=\"data row2 col5\" >605,895</td>\n",
       "      <td id=\"T_12e83_row2_col6\" class=\"data row2 col6\" >Hacker Group</td>\n",
       "      <td id=\"T_12e83_row2_col7\" class=\"data row2 col7\" >Weak Passwords</td>\n",
       "      <td id=\"T_12e83_row2_col8\" class=\"data row2 col8\" >VPN</td>\n",
       "      <td id=\"T_12e83_row2_col9\" class=\"data row2 col9\" >20.0 ore</td>\n",
       "    </tr>\n",
       "    <tr>\n",
       "      <th id=\"T_12e83_level0_row3\" class=\"row_heading level0 row3\" >3</th>\n",
       "      <td id=\"T_12e83_row3_col0\" class=\"data row3 col0\" >UK</td>\n",
       "      <td id=\"T_12e83_row3_col1\" class=\"data row3 col1\" >2024</td>\n",
       "      <td id=\"T_12e83_row3_col2\" class=\"data row3 col2\" >Ransomware</td>\n",
       "      <td id=\"T_12e83_row3_col3\" class=\"data row3 col3\" >Telecommunications</td>\n",
       "      <td id=\"T_12e83_row3_col4\" class=\"data row3 col4\" >$41.44</td>\n",
       "      <td id=\"T_12e83_row3_col5\" class=\"data row3 col5\" >659,320</td>\n",
       "      <td id=\"T_12e83_row3_col6\" class=\"data row3 col6\" >Nation-state</td>\n",
       "      <td id=\"T_12e83_row3_col7\" class=\"data row3 col7\" >Social Engineering</td>\n",
       "      <td id=\"T_12e83_row3_col8\" class=\"data row3 col8\" >AI-based Detection</td>\n",
       "      <td id=\"T_12e83_row3_col9\" class=\"data row3 col9\" >7.0 ore</td>\n",
       "    </tr>\n",
       "    <tr>\n",
       "      <th id=\"T_12e83_level0_row4\" class=\"row_heading level0 row4\" >4</th>\n",
       "      <td id=\"T_12e83_row4_col0\" class=\"data row4 col0\" >Germany</td>\n",
       "      <td id=\"T_12e83_row4_col1\" class=\"data row4 col1\" >2018</td>\n",
       "      <td id=\"T_12e83_row4_col2\" class=\"data row4 col2\" >Man-in-the-Middle</td>\n",
       "      <td id=\"T_12e83_row4_col3\" class=\"data row4 col3\" >IT</td>\n",
       "      <td id=\"T_12e83_row4_col4\" class=\"data row4 col4\" >$74.41</td>\n",
       "      <td id=\"T_12e83_row4_col5\" class=\"data row4 col5\" >810,682</td>\n",
       "      <td id=\"T_12e83_row4_col6\" class=\"data row4 col6\" >Insider</td>\n",
       "      <td id=\"T_12e83_row4_col7\" class=\"data row4 col7\" >Social Engineering</td>\n",
       "      <td id=\"T_12e83_row4_col8\" class=\"data row4 col8\" >VPN</td>\n",
       "      <td id=\"T_12e83_row4_col9\" class=\"data row4 col9\" >68.0 ore</td>\n",
       "    </tr>\n",
       "    <tr>\n",
       "      <th id=\"T_12e83_level0_row5\" class=\"row_heading level0 row5\" >5</th>\n",
       "      <td id=\"T_12e83_row5_col0\" class=\"data row5 col0\" >Germany</td>\n",
       "      <td id=\"T_12e83_row5_col1\" class=\"data row5 col1\" >2017</td>\n",
       "      <td id=\"T_12e83_row5_col2\" class=\"data row5 col2\" >Man-in-the-Middle</td>\n",
       "      <td id=\"T_12e83_row5_col3\" class=\"data row5 col3\" >Retail</td>\n",
       "      <td id=\"T_12e83_row5_col4\" class=\"data row5 col4\" >$98.24</td>\n",
       "      <td id=\"T_12e83_row5_col5\" class=\"data row5 col5\" >285,201</td>\n",
       "      <td id=\"T_12e83_row5_col6\" class=\"data row5 col6\" >Unknown</td>\n",
       "      <td id=\"T_12e83_row5_col7\" class=\"data row5 col7\" >Social Engineering</td>\n",
       "      <td id=\"T_12e83_row5_col8\" class=\"data row5 col8\" >Antivirus</td>\n",
       "      <td id=\"T_12e83_row5_col9\" class=\"data row5 col9\" >25.0 ore</td>\n",
       "    </tr>\n",
       "    <tr>\n",
       "      <th id=\"T_12e83_level0_row6\" class=\"row_heading level0 row6\" >6</th>\n",
       "      <td id=\"T_12e83_row6_col0\" class=\"data row6 col0\" >Germany</td>\n",
       "      <td id=\"T_12e83_row6_col1\" class=\"data row6 col1\" >2016</td>\n",
       "      <td id=\"T_12e83_row6_col2\" class=\"data row6 col2\" >DDoS</td>\n",
       "      <td id=\"T_12e83_row6_col3\" class=\"data row6 col3\" >Telecommunications</td>\n",
       "      <td id=\"T_12e83_row6_col4\" class=\"data row6 col4\" >$33.26</td>\n",
       "      <td id=\"T_12e83_row6_col5\" class=\"data row6 col5\" >431,262</td>\n",
       "      <td id=\"T_12e83_row6_col6\" class=\"data row6 col6\" >Insider</td>\n",
       "      <td id=\"T_12e83_row6_col7\" class=\"data row6 col7\" >Unpatched Software</td>\n",
       "      <td id=\"T_12e83_row6_col8\" class=\"data row6 col8\" >VPN</td>\n",
       "      <td id=\"T_12e83_row6_col9\" class=\"data row6 col9\" >34.0 ore</td>\n",
       "    </tr>\n",
       "    <tr>\n",
       "      <th id=\"T_12e83_level0_row7\" class=\"row_heading level0 row7\" >7</th>\n",
       "      <td id=\"T_12e83_row7_col0\" class=\"data row7 col0\" >France</td>\n",
       "      <td id=\"T_12e83_row7_col1\" class=\"data row7 col1\" >2018</td>\n",
       "      <td id=\"T_12e83_row7_col2\" class=\"data row7 col2\" >SQL Injection</td>\n",
       "      <td id=\"T_12e83_row7_col3\" class=\"data row7 col3\" >Government</td>\n",
       "      <td id=\"T_12e83_row7_col4\" class=\"data row7 col4\" >$59.23</td>\n",
       "      <td id=\"T_12e83_row7_col5\" class=\"data row7 col5\" >909,991</td>\n",
       "      <td id=\"T_12e83_row7_col6\" class=\"data row7 col6\" >Unknown</td>\n",
       "      <td id=\"T_12e83_row7_col7\" class=\"data row7 col7\" >Social Engineering</td>\n",
       "      <td id=\"T_12e83_row7_col8\" class=\"data row7 col8\" >Antivirus</td>\n",
       "      <td id=\"T_12e83_row7_col9\" class=\"data row7 col9\" >66.0 ore</td>\n",
       "    </tr>\n",
       "    <tr>\n",
       "      <th id=\"T_12e83_level0_row8\" class=\"row_heading level0 row8\" >8</th>\n",
       "      <td id=\"T_12e83_row8_col0\" class=\"data row8 col0\" >India</td>\n",
       "      <td id=\"T_12e83_row8_col1\" class=\"data row8 col1\" >2016</td>\n",
       "      <td id=\"T_12e83_row8_col2\" class=\"data row8 col2\" >Man-in-the-Middle</td>\n",
       "      <td id=\"T_12e83_row8_col3\" class=\"data row8 col3\" >Banking</td>\n",
       "      <td id=\"T_12e83_row8_col4\" class=\"data row8 col4\" >$16.88</td>\n",
       "      <td id=\"T_12e83_row8_col5\" class=\"data row8 col5\" >698,249</td>\n",
       "      <td id=\"T_12e83_row8_col6\" class=\"data row8 col6\" >Unknown</td>\n",
       "      <td id=\"T_12e83_row8_col7\" class=\"data row8 col7\" >Social Engineering</td>\n",
       "      <td id=\"T_12e83_row8_col8\" class=\"data row8 col8\" >VPN</td>\n",
       "      <td id=\"T_12e83_row8_col9\" class=\"data row8 col9\" >47.0 ore</td>\n",
       "    </tr>\n",
       "    <tr>\n",
       "      <th id=\"T_12e83_level0_row9\" class=\"row_heading level0 row9\" >9</th>\n",
       "      <td id=\"T_12e83_row9_col0\" class=\"data row9 col0\" >UK</td>\n",
       "      <td id=\"T_12e83_row9_col1\" class=\"data row9 col1\" >2023</td>\n",
       "      <td id=\"T_12e83_row9_col2\" class=\"data row9 col2\" >DDoS</td>\n",
       "      <td id=\"T_12e83_row9_col3\" class=\"data row9 col3\" >Healthcare</td>\n",
       "      <td id=\"T_12e83_row9_col4\" class=\"data row9 col4\" >$69.14</td>\n",
       "      <td id=\"T_12e83_row9_col5\" class=\"data row9 col5\" >685,927</td>\n",
       "      <td id=\"T_12e83_row9_col6\" class=\"data row9 col6\" >Hacker Group</td>\n",
       "      <td id=\"T_12e83_row9_col7\" class=\"data row9 col7\" >Unpatched Software</td>\n",
       "      <td id=\"T_12e83_row9_col8\" class=\"data row9 col8\" >Firewall</td>\n",
       "      <td id=\"T_12e83_row9_col9\" class=\"data row9 col9\" >58.0 ore</td>\n",
       "    </tr>\n",
       "  </tbody>\n",
       "</table>\n"
      ],
      "text/plain": [
       "<pandas.io.formats.style.Styler at 0x1b5b04c6270>"
      ]
     },
     "execution_count": 4,
     "metadata": {},
     "output_type": "execute_result"
    }
   ],
   "source": [
    "df.head(10).style\\ #Css properties\n",
    "    .background_gradient(cmap=\"PuBu\", subset=['Financial Loss (in Million $)', 'Number of Affected Users', 'Incident Resolution Time (in Hours)'])\\\n",
    "    .set_caption(\"Anteprima del Dataset - tabella\")\\\n",
    "    .set_properties(**{\n",
    "        'border': '1px solid black',\n",
    "        'text-align': 'center',\n",
    "        'font-family': 'Arial'\n",
    "    })\\\n",
    "    .highlight_max(color=\"#E72525\", subset=['Financial Loss (in Million $)'])\\\n",
    "    .highlight_min(color=\"#16D316\", subset=['Financial Loss (in Million $)'])\\\n",
    "    .format({\n",
    "        'Financial Loss (in Million $)': \"${:,.2f}\",\n",
    "        'Number of Affected Users': \"{:,.0f}\",\n",
    "        'Incident Resolution Time (in Hours)': \"{:.1f} ore\"\n",
    "    })\\\n",
    "    .set_table_styles([{\n",
    "        'selector': 'th',\n",
    "        'props': [('background-color', '#4472C4'), \n",
    "                 ('color', 'white'),\n",
    "                 ('font-weight', 'bold')]\n",
    "    }])"
   ]
  },
  {
   "cell_type": "markdown",
   "id": "08f42e6e-a22d-493e-ab74-9e88e1d94ac7",
   "metadata": {},
   "source": [
    "Ora che abbiamo introdotto il dataset, possiamo procedere con l'esecuzione di grafici e tabelle più approfondite per comprendere meglio le statistiche dietro gli attacchi informatici nell'arco temporale dal 2015 al 2024."
   ]
  },
  {
   "cell_type": "markdown",
   "id": "445cdf88-2c32-41d2-8c7b-09b5be338668",
   "metadata": {},
   "source": [
    "# Mappae globali - coropletiche"
   ]
  },
  {
   "cell_type": "code",
   "execution_count": 5,
   "id": "1bfda890-8999-4f84-98bc-74d69886086e",
   "metadata": {},
   "outputs": [
    {
     "data": {
      "application/vnd.plotly.v1+json": {
       "config": {
        "plotlyServerURL": "https://plot.ly"
       },
       "data": [
        {
         "autocolorscale": false,
         "colorbar": {
          "len": 0.7,
          "thickness": 15,
          "tickfont": {
           "family": "Arial, sans-serif",
           "size": 12
          },
          "tickformat": ".1s",
          "title": {
           "font": {
            "family": "Arial, sans-serif",
            "size": 14
           },
           "text": "<b>Affected Users</b><br>(Millions)"
          },
          "x": 1.02
         },
         "colorscale": [
          [
           0,
           "#fff5f0"
          ],
          [
           0.14285714285714285,
           "#fee0d2"
          ],
          [
           0.2857142857142857,
           "#fcbba1"
          ],
          [
           0.42857142857142855,
           "#fc9272"
          ],
          [
           0.5714285714285714,
           "#fb6a4a"
          ],
          [
           0.7142857142857143,
           "#ef3b2c"
          ],
          [
           0.8571428571428571,
           "#cb181d"
          ],
          [
           1,
           "#99000d"
          ]
         ],
         "locationmode": "country names",
         "locations": [
          "Australia",
          "Brazil",
          "China",
          "France",
          "Germany",
          "India",
          "Japan",
          "Russia",
          "UK",
          "USA"
         ],
         "marker": {
          "line": {
           "color": "darkgray",
           "width": 0.5
          }
         },
         "text": [
          "Australia",
          "Brazil",
          "China",
          "France",
          "Germany",
          "India",
          "Japan",
          "Russia",
          "UK",
          "USA"
         ],
         "type": "choropleth",
         "z": {
          "bdata": "tv/wCETKDwoK1lEIFt5PCd5YzQgjSeQIhindCFtDEgmXuWIJplSYCA==",
          "dtype": "i4"
         },
         "zmax": 180000000,
         "zmin": 140000000
        }
       ],
       "layout": {
        "font": {
         "family": "Arial, sans-serif"
        },
        "geo": {
         "bgcolor": "rgba(0,0,0,0)",
         "coastlinecolor": "#34495e",
         "coastlinewidth": 1,
         "lakecolor": "#ecf0f1",
         "projection": {
          "type": "equirectangular"
         },
         "showcoastlines": true,
         "showframe": false,
         "showlakes": true
        },
        "height": 500,
        "margin": {
         "b": 0,
         "l": 0,
         "r": 0,
         "t": 80
        },
        "paper_bgcolor": "white",
        "plot_bgcolor": "white",
        "template": {
         "data": {
          "bar": [
           {
            "error_x": {
             "color": "#2a3f5f"
            },
            "error_y": {
             "color": "#2a3f5f"
            },
            "marker": {
             "line": {
              "color": "#E5ECF6",
              "width": 0.5
             },
             "pattern": {
              "fillmode": "overlay",
              "size": 10,
              "solidity": 0.2
             }
            },
            "type": "bar"
           }
          ],
          "barpolar": [
           {
            "marker": {
             "line": {
              "color": "#E5ECF6",
              "width": 0.5
             },
             "pattern": {
              "fillmode": "overlay",
              "size": 10,
              "solidity": 0.2
             }
            },
            "type": "barpolar"
           }
          ],
          "carpet": [
           {
            "aaxis": {
             "endlinecolor": "#2a3f5f",
             "gridcolor": "white",
             "linecolor": "white",
             "minorgridcolor": "white",
             "startlinecolor": "#2a3f5f"
            },
            "baxis": {
             "endlinecolor": "#2a3f5f",
             "gridcolor": "white",
             "linecolor": "white",
             "minorgridcolor": "white",
             "startlinecolor": "#2a3f5f"
            },
            "type": "carpet"
           }
          ],
          "choropleth": [
           {
            "colorbar": {
             "outlinewidth": 0,
             "ticks": ""
            },
            "type": "choropleth"
           }
          ],
          "contour": [
           {
            "colorbar": {
             "outlinewidth": 0,
             "ticks": ""
            },
            "colorscale": [
             [
              0,
              "#0d0887"
             ],
             [
              0.1111111111111111,
              "#46039f"
             ],
             [
              0.2222222222222222,
              "#7201a8"
             ],
             [
              0.3333333333333333,
              "#9c179e"
             ],
             [
              0.4444444444444444,
              "#bd3786"
             ],
             [
              0.5555555555555556,
              "#d8576b"
             ],
             [
              0.6666666666666666,
              "#ed7953"
             ],
             [
              0.7777777777777778,
              "#fb9f3a"
             ],
             [
              0.8888888888888888,
              "#fdca26"
             ],
             [
              1,
              "#f0f921"
             ]
            ],
            "type": "contour"
           }
          ],
          "contourcarpet": [
           {
            "colorbar": {
             "outlinewidth": 0,
             "ticks": ""
            },
            "type": "contourcarpet"
           }
          ],
          "heatmap": [
           {
            "colorbar": {
             "outlinewidth": 0,
             "ticks": ""
            },
            "colorscale": [
             [
              0,
              "#0d0887"
             ],
             [
              0.1111111111111111,
              "#46039f"
             ],
             [
              0.2222222222222222,
              "#7201a8"
             ],
             [
              0.3333333333333333,
              "#9c179e"
             ],
             [
              0.4444444444444444,
              "#bd3786"
             ],
             [
              0.5555555555555556,
              "#d8576b"
             ],
             [
              0.6666666666666666,
              "#ed7953"
             ],
             [
              0.7777777777777778,
              "#fb9f3a"
             ],
             [
              0.8888888888888888,
              "#fdca26"
             ],
             [
              1,
              "#f0f921"
             ]
            ],
            "type": "heatmap"
           }
          ],
          "histogram": [
           {
            "marker": {
             "pattern": {
              "fillmode": "overlay",
              "size": 10,
              "solidity": 0.2
             }
            },
            "type": "histogram"
           }
          ],
          "histogram2d": [
           {
            "colorbar": {
             "outlinewidth": 0,
             "ticks": ""
            },
            "colorscale": [
             [
              0,
              "#0d0887"
             ],
             [
              0.1111111111111111,
              "#46039f"
             ],
             [
              0.2222222222222222,
              "#7201a8"
             ],
             [
              0.3333333333333333,
              "#9c179e"
             ],
             [
              0.4444444444444444,
              "#bd3786"
             ],
             [
              0.5555555555555556,
              "#d8576b"
             ],
             [
              0.6666666666666666,
              "#ed7953"
             ],
             [
              0.7777777777777778,
              "#fb9f3a"
             ],
             [
              0.8888888888888888,
              "#fdca26"
             ],
             [
              1,
              "#f0f921"
             ]
            ],
            "type": "histogram2d"
           }
          ],
          "histogram2dcontour": [
           {
            "colorbar": {
             "outlinewidth": 0,
             "ticks": ""
            },
            "colorscale": [
             [
              0,
              "#0d0887"
             ],
             [
              0.1111111111111111,
              "#46039f"
             ],
             [
              0.2222222222222222,
              "#7201a8"
             ],
             [
              0.3333333333333333,
              "#9c179e"
             ],
             [
              0.4444444444444444,
              "#bd3786"
             ],
             [
              0.5555555555555556,
              "#d8576b"
             ],
             [
              0.6666666666666666,
              "#ed7953"
             ],
             [
              0.7777777777777778,
              "#fb9f3a"
             ],
             [
              0.8888888888888888,
              "#fdca26"
             ],
             [
              1,
              "#f0f921"
             ]
            ],
            "type": "histogram2dcontour"
           }
          ],
          "mesh3d": [
           {
            "colorbar": {
             "outlinewidth": 0,
             "ticks": ""
            },
            "type": "mesh3d"
           }
          ],
          "parcoords": [
           {
            "line": {
             "colorbar": {
              "outlinewidth": 0,
              "ticks": ""
             }
            },
            "type": "parcoords"
           }
          ],
          "pie": [
           {
            "automargin": true,
            "type": "pie"
           }
          ],
          "scatter": [
           {
            "fillpattern": {
             "fillmode": "overlay",
             "size": 10,
             "solidity": 0.2
            },
            "type": "scatter"
           }
          ],
          "scatter3d": [
           {
            "line": {
             "colorbar": {
              "outlinewidth": 0,
              "ticks": ""
             }
            },
            "marker": {
             "colorbar": {
              "outlinewidth": 0,
              "ticks": ""
             }
            },
            "type": "scatter3d"
           }
          ],
          "scattercarpet": [
           {
            "marker": {
             "colorbar": {
              "outlinewidth": 0,
              "ticks": ""
             }
            },
            "type": "scattercarpet"
           }
          ],
          "scattergeo": [
           {
            "marker": {
             "colorbar": {
              "outlinewidth": 0,
              "ticks": ""
             }
            },
            "type": "scattergeo"
           }
          ],
          "scattergl": [
           {
            "marker": {
             "colorbar": {
              "outlinewidth": 0,
              "ticks": ""
             }
            },
            "type": "scattergl"
           }
          ],
          "scattermap": [
           {
            "marker": {
             "colorbar": {
              "outlinewidth": 0,
              "ticks": ""
             }
            },
            "type": "scattermap"
           }
          ],
          "scattermapbox": [
           {
            "marker": {
             "colorbar": {
              "outlinewidth": 0,
              "ticks": ""
             }
            },
            "type": "scattermapbox"
           }
          ],
          "scatterpolar": [
           {
            "marker": {
             "colorbar": {
              "outlinewidth": 0,
              "ticks": ""
             }
            },
            "type": "scatterpolar"
           }
          ],
          "scatterpolargl": [
           {
            "marker": {
             "colorbar": {
              "outlinewidth": 0,
              "ticks": ""
             }
            },
            "type": "scatterpolargl"
           }
          ],
          "scatterternary": [
           {
            "marker": {
             "colorbar": {
              "outlinewidth": 0,
              "ticks": ""
             }
            },
            "type": "scatterternary"
           }
          ],
          "surface": [
           {
            "colorbar": {
             "outlinewidth": 0,
             "ticks": ""
            },
            "colorscale": [
             [
              0,
              "#0d0887"
             ],
             [
              0.1111111111111111,
              "#46039f"
             ],
             [
              0.2222222222222222,
              "#7201a8"
             ],
             [
              0.3333333333333333,
              "#9c179e"
             ],
             [
              0.4444444444444444,
              "#bd3786"
             ],
             [
              0.5555555555555556,
              "#d8576b"
             ],
             [
              0.6666666666666666,
              "#ed7953"
             ],
             [
              0.7777777777777778,
              "#fb9f3a"
             ],
             [
              0.8888888888888888,
              "#fdca26"
             ],
             [
              1,
              "#f0f921"
             ]
            ],
            "type": "surface"
           }
          ],
          "table": [
           {
            "cells": {
             "fill": {
              "color": "#EBF0F8"
             },
             "line": {
              "color": "white"
             }
            },
            "header": {
             "fill": {
              "color": "#C8D4E3"
             },
             "line": {
              "color": "white"
             }
            },
            "type": "table"
           }
          ]
         },
         "layout": {
          "annotationdefaults": {
           "arrowcolor": "#2a3f5f",
           "arrowhead": 0,
           "arrowwidth": 1
          },
          "autotypenumbers": "strict",
          "coloraxis": {
           "colorbar": {
            "outlinewidth": 0,
            "ticks": ""
           }
          },
          "colorscale": {
           "diverging": [
            [
             0,
             "#8e0152"
            ],
            [
             0.1,
             "#c51b7d"
            ],
            [
             0.2,
             "#de77ae"
            ],
            [
             0.3,
             "#f1b6da"
            ],
            [
             0.4,
             "#fde0ef"
            ],
            [
             0.5,
             "#f7f7f7"
            ],
            [
             0.6,
             "#e6f5d0"
            ],
            [
             0.7,
             "#b8e186"
            ],
            [
             0.8,
             "#7fbc41"
            ],
            [
             0.9,
             "#4d9221"
            ],
            [
             1,
             "#276419"
            ]
           ],
           "sequential": [
            [
             0,
             "#0d0887"
            ],
            [
             0.1111111111111111,
             "#46039f"
            ],
            [
             0.2222222222222222,
             "#7201a8"
            ],
            [
             0.3333333333333333,
             "#9c179e"
            ],
            [
             0.4444444444444444,
             "#bd3786"
            ],
            [
             0.5555555555555556,
             "#d8576b"
            ],
            [
             0.6666666666666666,
             "#ed7953"
            ],
            [
             0.7777777777777778,
             "#fb9f3a"
            ],
            [
             0.8888888888888888,
             "#fdca26"
            ],
            [
             1,
             "#f0f921"
            ]
           ],
           "sequentialminus": [
            [
             0,
             "#0d0887"
            ],
            [
             0.1111111111111111,
             "#46039f"
            ],
            [
             0.2222222222222222,
             "#7201a8"
            ],
            [
             0.3333333333333333,
             "#9c179e"
            ],
            [
             0.4444444444444444,
             "#bd3786"
            ],
            [
             0.5555555555555556,
             "#d8576b"
            ],
            [
             0.6666666666666666,
             "#ed7953"
            ],
            [
             0.7777777777777778,
             "#fb9f3a"
            ],
            [
             0.8888888888888888,
             "#fdca26"
            ],
            [
             1,
             "#f0f921"
            ]
           ]
          },
          "colorway": [
           "#636efa",
           "#EF553B",
           "#00cc96",
           "#ab63fa",
           "#FFA15A",
           "#19d3f3",
           "#FF6692",
           "#B6E880",
           "#FF97FF",
           "#FECB52"
          ],
          "font": {
           "color": "#2a3f5f"
          },
          "geo": {
           "bgcolor": "white",
           "lakecolor": "white",
           "landcolor": "#E5ECF6",
           "showlakes": true,
           "showland": true,
           "subunitcolor": "white"
          },
          "hoverlabel": {
           "align": "left"
          },
          "hovermode": "closest",
          "mapbox": {
           "style": "light"
          },
          "paper_bgcolor": "white",
          "plot_bgcolor": "#E5ECF6",
          "polar": {
           "angularaxis": {
            "gridcolor": "white",
            "linecolor": "white",
            "ticks": ""
           },
           "bgcolor": "#E5ECF6",
           "radialaxis": {
            "gridcolor": "white",
            "linecolor": "white",
            "ticks": ""
           }
          },
          "scene": {
           "xaxis": {
            "backgroundcolor": "#E5ECF6",
            "gridcolor": "white",
            "gridwidth": 2,
            "linecolor": "white",
            "showbackground": true,
            "ticks": "",
            "zerolinecolor": "white"
           },
           "yaxis": {
            "backgroundcolor": "#E5ECF6",
            "gridcolor": "white",
            "gridwidth": 2,
            "linecolor": "white",
            "showbackground": true,
            "ticks": "",
            "zerolinecolor": "white"
           },
           "zaxis": {
            "backgroundcolor": "#E5ECF6",
            "gridcolor": "white",
            "gridwidth": 2,
            "linecolor": "white",
            "showbackground": true,
            "ticks": "",
            "zerolinecolor": "white"
           }
          },
          "shapedefaults": {
           "line": {
            "color": "#2a3f5f"
           }
          },
          "ternary": {
           "aaxis": {
            "gridcolor": "white",
            "linecolor": "white",
            "ticks": ""
           },
           "baxis": {
            "gridcolor": "white",
            "linecolor": "white",
            "ticks": ""
           },
           "bgcolor": "#E5ECF6",
           "caxis": {
            "gridcolor": "white",
            "linecolor": "white",
            "ticks": ""
           }
          },
          "title": {
           "x": 0.05
          },
          "xaxis": {
           "automargin": true,
           "gridcolor": "white",
           "linecolor": "white",
           "ticks": "",
           "title": {
            "standoff": 15
           },
           "zerolinecolor": "white",
           "zerolinewidth": 2
          },
          "yaxis": {
           "automargin": true,
           "gridcolor": "white",
           "linecolor": "white",
           "ticks": "",
           "title": {
            "standoff": 15
           },
           "zerolinecolor": "white",
           "zerolinewidth": 2
          }
         }
        },
        "title": {
         "font": {
          "color": "#2c3e50",
          "family": "Arial, sans-serif",
          "size": 20
         },
         "text": "<b>Global Cybersecurity Impact: Users Affected by Cyber Attacks</b><br><sup>Cumulative data from 2015-2024</sup>",
         "x": 0.5
        },
        "width": 1000
       }
      }
     },
     "metadata": {},
     "output_type": "display_data"
    },
    {
     "data": {
      "application/vnd.plotly.v1+json": {
       "config": {
        "plotlyServerURL": "https://plot.ly"
       },
       "data": [
        {
         "autocolorscale": false,
         "colorbar": {
          "len": 0.7,
          "thickness": 15,
          "tickfont": {
           "family": "Arial, sans-serif",
           "size": 12
          },
          "tickformat": "$,.0f",
          "title": {
           "font": {
            "family": "Arial, sans-serif",
            "size": 14
           },
           "text": "<b>Financial Loss</b><br>(Million USD)"
          },
          "x": 1.02
         },
         "colorscale": [
          [
           0,
           "#f7fbff"
          ],
          [
           0.14285714285714285,
           "#deebf7"
          ],
          [
           0.2857142857142857,
           "#c6dbef"
          ],
          [
           0.42857142857142855,
           "#9ecae1"
          ],
          [
           0.5714285714285714,
           "#6baed6"
          ],
          [
           0.7142857142857143,
           "#4292c6"
          ],
          [
           0.8571428571428571,
           "#2171b5"
          ],
          [
           1,
           "#084594"
          ]
         ],
         "locationmode": "country names",
         "locations": [
          "Australia",
          "Brazil",
          "China",
          "France",
          "Germany",
          "India",
          "Japan",
          "Russia",
          "UK",
          "USA"
         ],
         "marker": {
          "line": {
           "color": "darkgray",
           "width": 0.5
          }
         },
         "text": [
          "Australia",
          "Brazil",
          "China",
          "France",
          "Germany",
          "India",
          "Japan",
          "Russia",
          "UK",
          "USA"
         ],
         "type": "choropleth",
         "z": {
          "bdata": "AAAAAIAVzkDD9ShcT9POQI/C9Sg8ycpAcT0K1yM+zUCF61G4ntjOQMP1KFwPc8xAUrgehauuzUAK16NwXcfMQMP1KFy/HdBAw/UoXA/uzEA=",
          "dtype": "f8"
         }
        }
       ],
       "layout": {
        "font": {
         "family": "Arial, sans-serif"
        },
        "geo": {
         "bgcolor": "rgba(0,0,0,0)",
         "coastlinecolor": "#34495e",
         "coastlinewidth": 1,
         "lakecolor": "#ecf0f1",
         "projection": {
          "type": "equirectangular"
         },
         "showcoastlines": true,
         "showframe": false,
         "showlakes": true
        },
        "height": 500,
        "margin": {
         "b": 0,
         "l": 0,
         "r": 0,
         "t": 80
        },
        "paper_bgcolor": "white",
        "plot_bgcolor": "white",
        "template": {
         "data": {
          "bar": [
           {
            "error_x": {
             "color": "#2a3f5f"
            },
            "error_y": {
             "color": "#2a3f5f"
            },
            "marker": {
             "line": {
              "color": "#E5ECF6",
              "width": 0.5
             },
             "pattern": {
              "fillmode": "overlay",
              "size": 10,
              "solidity": 0.2
             }
            },
            "type": "bar"
           }
          ],
          "barpolar": [
           {
            "marker": {
             "line": {
              "color": "#E5ECF6",
              "width": 0.5
             },
             "pattern": {
              "fillmode": "overlay",
              "size": 10,
              "solidity": 0.2
             }
            },
            "type": "barpolar"
           }
          ],
          "carpet": [
           {
            "aaxis": {
             "endlinecolor": "#2a3f5f",
             "gridcolor": "white",
             "linecolor": "white",
             "minorgridcolor": "white",
             "startlinecolor": "#2a3f5f"
            },
            "baxis": {
             "endlinecolor": "#2a3f5f",
             "gridcolor": "white",
             "linecolor": "white",
             "minorgridcolor": "white",
             "startlinecolor": "#2a3f5f"
            },
            "type": "carpet"
           }
          ],
          "choropleth": [
           {
            "colorbar": {
             "outlinewidth": 0,
             "ticks": ""
            },
            "type": "choropleth"
           }
          ],
          "contour": [
           {
            "colorbar": {
             "outlinewidth": 0,
             "ticks": ""
            },
            "colorscale": [
             [
              0,
              "#0d0887"
             ],
             [
              0.1111111111111111,
              "#46039f"
             ],
             [
              0.2222222222222222,
              "#7201a8"
             ],
             [
              0.3333333333333333,
              "#9c179e"
             ],
             [
              0.4444444444444444,
              "#bd3786"
             ],
             [
              0.5555555555555556,
              "#d8576b"
             ],
             [
              0.6666666666666666,
              "#ed7953"
             ],
             [
              0.7777777777777778,
              "#fb9f3a"
             ],
             [
              0.8888888888888888,
              "#fdca26"
             ],
             [
              1,
              "#f0f921"
             ]
            ],
            "type": "contour"
           }
          ],
          "contourcarpet": [
           {
            "colorbar": {
             "outlinewidth": 0,
             "ticks": ""
            },
            "type": "contourcarpet"
           }
          ],
          "heatmap": [
           {
            "colorbar": {
             "outlinewidth": 0,
             "ticks": ""
            },
            "colorscale": [
             [
              0,
              "#0d0887"
             ],
             [
              0.1111111111111111,
              "#46039f"
             ],
             [
              0.2222222222222222,
              "#7201a8"
             ],
             [
              0.3333333333333333,
              "#9c179e"
             ],
             [
              0.4444444444444444,
              "#bd3786"
             ],
             [
              0.5555555555555556,
              "#d8576b"
             ],
             [
              0.6666666666666666,
              "#ed7953"
             ],
             [
              0.7777777777777778,
              "#fb9f3a"
             ],
             [
              0.8888888888888888,
              "#fdca26"
             ],
             [
              1,
              "#f0f921"
             ]
            ],
            "type": "heatmap"
           }
          ],
          "histogram": [
           {
            "marker": {
             "pattern": {
              "fillmode": "overlay",
              "size": 10,
              "solidity": 0.2
             }
            },
            "type": "histogram"
           }
          ],
          "histogram2d": [
           {
            "colorbar": {
             "outlinewidth": 0,
             "ticks": ""
            },
            "colorscale": [
             [
              0,
              "#0d0887"
             ],
             [
              0.1111111111111111,
              "#46039f"
             ],
             [
              0.2222222222222222,
              "#7201a8"
             ],
             [
              0.3333333333333333,
              "#9c179e"
             ],
             [
              0.4444444444444444,
              "#bd3786"
             ],
             [
              0.5555555555555556,
              "#d8576b"
             ],
             [
              0.6666666666666666,
              "#ed7953"
             ],
             [
              0.7777777777777778,
              "#fb9f3a"
             ],
             [
              0.8888888888888888,
              "#fdca26"
             ],
             [
              1,
              "#f0f921"
             ]
            ],
            "type": "histogram2d"
           }
          ],
          "histogram2dcontour": [
           {
            "colorbar": {
             "outlinewidth": 0,
             "ticks": ""
            },
            "colorscale": [
             [
              0,
              "#0d0887"
             ],
             [
              0.1111111111111111,
              "#46039f"
             ],
             [
              0.2222222222222222,
              "#7201a8"
             ],
             [
              0.3333333333333333,
              "#9c179e"
             ],
             [
              0.4444444444444444,
              "#bd3786"
             ],
             [
              0.5555555555555556,
              "#d8576b"
             ],
             [
              0.6666666666666666,
              "#ed7953"
             ],
             [
              0.7777777777777778,
              "#fb9f3a"
             ],
             [
              0.8888888888888888,
              "#fdca26"
             ],
             [
              1,
              "#f0f921"
             ]
            ],
            "type": "histogram2dcontour"
           }
          ],
          "mesh3d": [
           {
            "colorbar": {
             "outlinewidth": 0,
             "ticks": ""
            },
            "type": "mesh3d"
           }
          ],
          "parcoords": [
           {
            "line": {
             "colorbar": {
              "outlinewidth": 0,
              "ticks": ""
             }
            },
            "type": "parcoords"
           }
          ],
          "pie": [
           {
            "automargin": true,
            "type": "pie"
           }
          ],
          "scatter": [
           {
            "fillpattern": {
             "fillmode": "overlay",
             "size": 10,
             "solidity": 0.2
            },
            "type": "scatter"
           }
          ],
          "scatter3d": [
           {
            "line": {
             "colorbar": {
              "outlinewidth": 0,
              "ticks": ""
             }
            },
            "marker": {
             "colorbar": {
              "outlinewidth": 0,
              "ticks": ""
             }
            },
            "type": "scatter3d"
           }
          ],
          "scattercarpet": [
           {
            "marker": {
             "colorbar": {
              "outlinewidth": 0,
              "ticks": ""
             }
            },
            "type": "scattercarpet"
           }
          ],
          "scattergeo": [
           {
            "marker": {
             "colorbar": {
              "outlinewidth": 0,
              "ticks": ""
             }
            },
            "type": "scattergeo"
           }
          ],
          "scattergl": [
           {
            "marker": {
             "colorbar": {
              "outlinewidth": 0,
              "ticks": ""
             }
            },
            "type": "scattergl"
           }
          ],
          "scattermap": [
           {
            "marker": {
             "colorbar": {
              "outlinewidth": 0,
              "ticks": ""
             }
            },
            "type": "scattermap"
           }
          ],
          "scattermapbox": [
           {
            "marker": {
             "colorbar": {
              "outlinewidth": 0,
              "ticks": ""
             }
            },
            "type": "scattermapbox"
           }
          ],
          "scatterpolar": [
           {
            "marker": {
             "colorbar": {
              "outlinewidth": 0,
              "ticks": ""
             }
            },
            "type": "scatterpolar"
           }
          ],
          "scatterpolargl": [
           {
            "marker": {
             "colorbar": {
              "outlinewidth": 0,
              "ticks": ""
             }
            },
            "type": "scatterpolargl"
           }
          ],
          "scatterternary": [
           {
            "marker": {
             "colorbar": {
              "outlinewidth": 0,
              "ticks": ""
             }
            },
            "type": "scatterternary"
           }
          ],
          "surface": [
           {
            "colorbar": {
             "outlinewidth": 0,
             "ticks": ""
            },
            "colorscale": [
             [
              0,
              "#0d0887"
             ],
             [
              0.1111111111111111,
              "#46039f"
             ],
             [
              0.2222222222222222,
              "#7201a8"
             ],
             [
              0.3333333333333333,
              "#9c179e"
             ],
             [
              0.4444444444444444,
              "#bd3786"
             ],
             [
              0.5555555555555556,
              "#d8576b"
             ],
             [
              0.6666666666666666,
              "#ed7953"
             ],
             [
              0.7777777777777778,
              "#fb9f3a"
             ],
             [
              0.8888888888888888,
              "#fdca26"
             ],
             [
              1,
              "#f0f921"
             ]
            ],
            "type": "surface"
           }
          ],
          "table": [
           {
            "cells": {
             "fill": {
              "color": "#EBF0F8"
             },
             "line": {
              "color": "white"
             }
            },
            "header": {
             "fill": {
              "color": "#C8D4E3"
             },
             "line": {
              "color": "white"
             }
            },
            "type": "table"
           }
          ]
         },
         "layout": {
          "annotationdefaults": {
           "arrowcolor": "#2a3f5f",
           "arrowhead": 0,
           "arrowwidth": 1
          },
          "autotypenumbers": "strict",
          "coloraxis": {
           "colorbar": {
            "outlinewidth": 0,
            "ticks": ""
           }
          },
          "colorscale": {
           "diverging": [
            [
             0,
             "#8e0152"
            ],
            [
             0.1,
             "#c51b7d"
            ],
            [
             0.2,
             "#de77ae"
            ],
            [
             0.3,
             "#f1b6da"
            ],
            [
             0.4,
             "#fde0ef"
            ],
            [
             0.5,
             "#f7f7f7"
            ],
            [
             0.6,
             "#e6f5d0"
            ],
            [
             0.7,
             "#b8e186"
            ],
            [
             0.8,
             "#7fbc41"
            ],
            [
             0.9,
             "#4d9221"
            ],
            [
             1,
             "#276419"
            ]
           ],
           "sequential": [
            [
             0,
             "#0d0887"
            ],
            [
             0.1111111111111111,
             "#46039f"
            ],
            [
             0.2222222222222222,
             "#7201a8"
            ],
            [
             0.3333333333333333,
             "#9c179e"
            ],
            [
             0.4444444444444444,
             "#bd3786"
            ],
            [
             0.5555555555555556,
             "#d8576b"
            ],
            [
             0.6666666666666666,
             "#ed7953"
            ],
            [
             0.7777777777777778,
             "#fb9f3a"
            ],
            [
             0.8888888888888888,
             "#fdca26"
            ],
            [
             1,
             "#f0f921"
            ]
           ],
           "sequentialminus": [
            [
             0,
             "#0d0887"
            ],
            [
             0.1111111111111111,
             "#46039f"
            ],
            [
             0.2222222222222222,
             "#7201a8"
            ],
            [
             0.3333333333333333,
             "#9c179e"
            ],
            [
             0.4444444444444444,
             "#bd3786"
            ],
            [
             0.5555555555555556,
             "#d8576b"
            ],
            [
             0.6666666666666666,
             "#ed7953"
            ],
            [
             0.7777777777777778,
             "#fb9f3a"
            ],
            [
             0.8888888888888888,
             "#fdca26"
            ],
            [
             1,
             "#f0f921"
            ]
           ]
          },
          "colorway": [
           "#636efa",
           "#EF553B",
           "#00cc96",
           "#ab63fa",
           "#FFA15A",
           "#19d3f3",
           "#FF6692",
           "#B6E880",
           "#FF97FF",
           "#FECB52"
          ],
          "font": {
           "color": "#2a3f5f"
          },
          "geo": {
           "bgcolor": "white",
           "lakecolor": "white",
           "landcolor": "#E5ECF6",
           "showlakes": true,
           "showland": true,
           "subunitcolor": "white"
          },
          "hoverlabel": {
           "align": "left"
          },
          "hovermode": "closest",
          "mapbox": {
           "style": "light"
          },
          "paper_bgcolor": "white",
          "plot_bgcolor": "#E5ECF6",
          "polar": {
           "angularaxis": {
            "gridcolor": "white",
            "linecolor": "white",
            "ticks": ""
           },
           "bgcolor": "#E5ECF6",
           "radialaxis": {
            "gridcolor": "white",
            "linecolor": "white",
            "ticks": ""
           }
          },
          "scene": {
           "xaxis": {
            "backgroundcolor": "#E5ECF6",
            "gridcolor": "white",
            "gridwidth": 2,
            "linecolor": "white",
            "showbackground": true,
            "ticks": "",
            "zerolinecolor": "white"
           },
           "yaxis": {
            "backgroundcolor": "#E5ECF6",
            "gridcolor": "white",
            "gridwidth": 2,
            "linecolor": "white",
            "showbackground": true,
            "ticks": "",
            "zerolinecolor": "white"
           },
           "zaxis": {
            "backgroundcolor": "#E5ECF6",
            "gridcolor": "white",
            "gridwidth": 2,
            "linecolor": "white",
            "showbackground": true,
            "ticks": "",
            "zerolinecolor": "white"
           }
          },
          "shapedefaults": {
           "line": {
            "color": "#2a3f5f"
           }
          },
          "ternary": {
           "aaxis": {
            "gridcolor": "white",
            "linecolor": "white",
            "ticks": ""
           },
           "baxis": {
            "gridcolor": "white",
            "linecolor": "white",
            "ticks": ""
           },
           "bgcolor": "#E5ECF6",
           "caxis": {
            "gridcolor": "white",
            "linecolor": "white",
            "ticks": ""
           }
          },
          "title": {
           "x": 0.05
          },
          "xaxis": {
           "automargin": true,
           "gridcolor": "white",
           "linecolor": "white",
           "ticks": "",
           "title": {
            "standoff": 15
           },
           "zerolinecolor": "white",
           "zerolinewidth": 2
          },
          "yaxis": {
           "automargin": true,
           "gridcolor": "white",
           "linecolor": "white",
           "ticks": "",
           "title": {
            "standoff": 15
           },
           "zerolinecolor": "white",
           "zerolinewidth": 2
          }
         }
        },
        "title": {
         "font": {
          "color": "#2c3e50",
          "family": "Arial, sans-serif",
          "size": 20
         },
         "text": "<b>Global Cybersecurity Impact: Financial Losses from Cyber Attacks</b><br><sup>Cumulative losses from 2015-2024</sup>",
         "x": 0.5
        },
        "width": 1000
       }
      }
     },
     "metadata": {},
     "output_type": "display_data"
    },
    {
     "data": {
      "application/vnd.plotly.v1+json": {
       "config": {
        "plotlyServerURL": "https://plot.ly"
       },
       "data": [
        {
         "autocolorscale": false,
         "colorbar": {
          "len": 0.7,
          "thickness": 15,
          "tickfont": {
           "family": "Arial, sans-serif",
           "size": 12
          },
          "tickformat": ".1f",
          "title": {
           "font": {
            "family": "Arial, sans-serif",
            "size": 14
           },
           "text": "<b>Response Time</b><br>(Hours)"
          },
          "x": 1.02
         },
         "colorscale": [
          [
           0,
           "#fcfbfd"
          ],
          [
           0.14285714285714285,
           "#efedf5"
          ],
          [
           0.2857142857142857,
           "#dadaeb"
          ],
          [
           0.42857142857142855,
           "#bcbddc"
          ],
          [
           0.5714285714285714,
           "#9e9ac8"
          ],
          [
           0.7142857142857143,
           "#807dba"
          ],
          [
           0.8571428571428571,
           "#6a51a3"
          ],
          [
           1,
           "#4a1486"
          ]
         ],
         "locationmode": "country names",
         "locations": [
          "Australia",
          "Brazil",
          "China",
          "France",
          "Germany",
          "India",
          "Japan",
          "Russia",
          "UK",
          "USA"
         ],
         "marker": {
          "line": {
           "color": "darkgray",
           "width": 0.5
          }
         },
         "text": [
          "Australia",
          "Brazil",
          "China",
          "France",
          "Germany",
          "India",
          "Japan",
          "Russia",
          "UK",
          "USA"
         ],
         "type": "choropleth",
         "z": {
          "bdata": "2ktoL6E9QkBhHxf2ceFCQJ/5Ho4Es0JANZHDx7IbQkCldygGMwJCQBdddNFF90FApM37FJeMQkBaqJJRjsRBQHjqWg5udkJA3hm9VD+nQUA=",
          "dtype": "f8"
         }
        }
       ],
       "layout": {
        "font": {
         "family": "Arial, sans-serif"
        },
        "geo": {
         "bgcolor": "rgba(0,0,0,0)",
         "coastlinecolor": "#34495e",
         "coastlinewidth": 1,
         "lakecolor": "#ecf0f1",
         "projection": {
          "type": "equirectangular"
         },
         "showcoastlines": true,
         "showframe": false,
         "showlakes": true
        },
        "height": 500,
        "margin": {
         "b": 0,
         "l": 0,
         "r": 0,
         "t": 80
        },
        "paper_bgcolor": "white",
        "plot_bgcolor": "white",
        "template": {
         "data": {
          "bar": [
           {
            "error_x": {
             "color": "#2a3f5f"
            },
            "error_y": {
             "color": "#2a3f5f"
            },
            "marker": {
             "line": {
              "color": "#E5ECF6",
              "width": 0.5
             },
             "pattern": {
              "fillmode": "overlay",
              "size": 10,
              "solidity": 0.2
             }
            },
            "type": "bar"
           }
          ],
          "barpolar": [
           {
            "marker": {
             "line": {
              "color": "#E5ECF6",
              "width": 0.5
             },
             "pattern": {
              "fillmode": "overlay",
              "size": 10,
              "solidity": 0.2
             }
            },
            "type": "barpolar"
           }
          ],
          "carpet": [
           {
            "aaxis": {
             "endlinecolor": "#2a3f5f",
             "gridcolor": "white",
             "linecolor": "white",
             "minorgridcolor": "white",
             "startlinecolor": "#2a3f5f"
            },
            "baxis": {
             "endlinecolor": "#2a3f5f",
             "gridcolor": "white",
             "linecolor": "white",
             "minorgridcolor": "white",
             "startlinecolor": "#2a3f5f"
            },
            "type": "carpet"
           }
          ],
          "choropleth": [
           {
            "colorbar": {
             "outlinewidth": 0,
             "ticks": ""
            },
            "type": "choropleth"
           }
          ],
          "contour": [
           {
            "colorbar": {
             "outlinewidth": 0,
             "ticks": ""
            },
            "colorscale": [
             [
              0,
              "#0d0887"
             ],
             [
              0.1111111111111111,
              "#46039f"
             ],
             [
              0.2222222222222222,
              "#7201a8"
             ],
             [
              0.3333333333333333,
              "#9c179e"
             ],
             [
              0.4444444444444444,
              "#bd3786"
             ],
             [
              0.5555555555555556,
              "#d8576b"
             ],
             [
              0.6666666666666666,
              "#ed7953"
             ],
             [
              0.7777777777777778,
              "#fb9f3a"
             ],
             [
              0.8888888888888888,
              "#fdca26"
             ],
             [
              1,
              "#f0f921"
             ]
            ],
            "type": "contour"
           }
          ],
          "contourcarpet": [
           {
            "colorbar": {
             "outlinewidth": 0,
             "ticks": ""
            },
            "type": "contourcarpet"
           }
          ],
          "heatmap": [
           {
            "colorbar": {
             "outlinewidth": 0,
             "ticks": ""
            },
            "colorscale": [
             [
              0,
              "#0d0887"
             ],
             [
              0.1111111111111111,
              "#46039f"
             ],
             [
              0.2222222222222222,
              "#7201a8"
             ],
             [
              0.3333333333333333,
              "#9c179e"
             ],
             [
              0.4444444444444444,
              "#bd3786"
             ],
             [
              0.5555555555555556,
              "#d8576b"
             ],
             [
              0.6666666666666666,
              "#ed7953"
             ],
             [
              0.7777777777777778,
              "#fb9f3a"
             ],
             [
              0.8888888888888888,
              "#fdca26"
             ],
             [
              1,
              "#f0f921"
             ]
            ],
            "type": "heatmap"
           }
          ],
          "histogram": [
           {
            "marker": {
             "pattern": {
              "fillmode": "overlay",
              "size": 10,
              "solidity": 0.2
             }
            },
            "type": "histogram"
           }
          ],
          "histogram2d": [
           {
            "colorbar": {
             "outlinewidth": 0,
             "ticks": ""
            },
            "colorscale": [
             [
              0,
              "#0d0887"
             ],
             [
              0.1111111111111111,
              "#46039f"
             ],
             [
              0.2222222222222222,
              "#7201a8"
             ],
             [
              0.3333333333333333,
              "#9c179e"
             ],
             [
              0.4444444444444444,
              "#bd3786"
             ],
             [
              0.5555555555555556,
              "#d8576b"
             ],
             [
              0.6666666666666666,
              "#ed7953"
             ],
             [
              0.7777777777777778,
              "#fb9f3a"
             ],
             [
              0.8888888888888888,
              "#fdca26"
             ],
             [
              1,
              "#f0f921"
             ]
            ],
            "type": "histogram2d"
           }
          ],
          "histogram2dcontour": [
           {
            "colorbar": {
             "outlinewidth": 0,
             "ticks": ""
            },
            "colorscale": [
             [
              0,
              "#0d0887"
             ],
             [
              0.1111111111111111,
              "#46039f"
             ],
             [
              0.2222222222222222,
              "#7201a8"
             ],
             [
              0.3333333333333333,
              "#9c179e"
             ],
             [
              0.4444444444444444,
              "#bd3786"
             ],
             [
              0.5555555555555556,
              "#d8576b"
             ],
             [
              0.6666666666666666,
              "#ed7953"
             ],
             [
              0.7777777777777778,
              "#fb9f3a"
             ],
             [
              0.8888888888888888,
              "#fdca26"
             ],
             [
              1,
              "#f0f921"
             ]
            ],
            "type": "histogram2dcontour"
           }
          ],
          "mesh3d": [
           {
            "colorbar": {
             "outlinewidth": 0,
             "ticks": ""
            },
            "type": "mesh3d"
           }
          ],
          "parcoords": [
           {
            "line": {
             "colorbar": {
              "outlinewidth": 0,
              "ticks": ""
             }
            },
            "type": "parcoords"
           }
          ],
          "pie": [
           {
            "automargin": true,
            "type": "pie"
           }
          ],
          "scatter": [
           {
            "fillpattern": {
             "fillmode": "overlay",
             "size": 10,
             "solidity": 0.2
            },
            "type": "scatter"
           }
          ],
          "scatter3d": [
           {
            "line": {
             "colorbar": {
              "outlinewidth": 0,
              "ticks": ""
             }
            },
            "marker": {
             "colorbar": {
              "outlinewidth": 0,
              "ticks": ""
             }
            },
            "type": "scatter3d"
           }
          ],
          "scattercarpet": [
           {
            "marker": {
             "colorbar": {
              "outlinewidth": 0,
              "ticks": ""
             }
            },
            "type": "scattercarpet"
           }
          ],
          "scattergeo": [
           {
            "marker": {
             "colorbar": {
              "outlinewidth": 0,
              "ticks": ""
             }
            },
            "type": "scattergeo"
           }
          ],
          "scattergl": [
           {
            "marker": {
             "colorbar": {
              "outlinewidth": 0,
              "ticks": ""
             }
            },
            "type": "scattergl"
           }
          ],
          "scattermap": [
           {
            "marker": {
             "colorbar": {
              "outlinewidth": 0,
              "ticks": ""
             }
            },
            "type": "scattermap"
           }
          ],
          "scattermapbox": [
           {
            "marker": {
             "colorbar": {
              "outlinewidth": 0,
              "ticks": ""
             }
            },
            "type": "scattermapbox"
           }
          ],
          "scatterpolar": [
           {
            "marker": {
             "colorbar": {
              "outlinewidth": 0,
              "ticks": ""
             }
            },
            "type": "scatterpolar"
           }
          ],
          "scatterpolargl": [
           {
            "marker": {
             "colorbar": {
              "outlinewidth": 0,
              "ticks": ""
             }
            },
            "type": "scatterpolargl"
           }
          ],
          "scatterternary": [
           {
            "marker": {
             "colorbar": {
              "outlinewidth": 0,
              "ticks": ""
             }
            },
            "type": "scatterternary"
           }
          ],
          "surface": [
           {
            "colorbar": {
             "outlinewidth": 0,
             "ticks": ""
            },
            "colorscale": [
             [
              0,
              "#0d0887"
             ],
             [
              0.1111111111111111,
              "#46039f"
             ],
             [
              0.2222222222222222,
              "#7201a8"
             ],
             [
              0.3333333333333333,
              "#9c179e"
             ],
             [
              0.4444444444444444,
              "#bd3786"
             ],
             [
              0.5555555555555556,
              "#d8576b"
             ],
             [
              0.6666666666666666,
              "#ed7953"
             ],
             [
              0.7777777777777778,
              "#fb9f3a"
             ],
             [
              0.8888888888888888,
              "#fdca26"
             ],
             [
              1,
              "#f0f921"
             ]
            ],
            "type": "surface"
           }
          ],
          "table": [
           {
            "cells": {
             "fill": {
              "color": "#EBF0F8"
             },
             "line": {
              "color": "white"
             }
            },
            "header": {
             "fill": {
              "color": "#C8D4E3"
             },
             "line": {
              "color": "white"
             }
            },
            "type": "table"
           }
          ]
         },
         "layout": {
          "annotationdefaults": {
           "arrowcolor": "#2a3f5f",
           "arrowhead": 0,
           "arrowwidth": 1
          },
          "autotypenumbers": "strict",
          "coloraxis": {
           "colorbar": {
            "outlinewidth": 0,
            "ticks": ""
           }
          },
          "colorscale": {
           "diverging": [
            [
             0,
             "#8e0152"
            ],
            [
             0.1,
             "#c51b7d"
            ],
            [
             0.2,
             "#de77ae"
            ],
            [
             0.3,
             "#f1b6da"
            ],
            [
             0.4,
             "#fde0ef"
            ],
            [
             0.5,
             "#f7f7f7"
            ],
            [
             0.6,
             "#e6f5d0"
            ],
            [
             0.7,
             "#b8e186"
            ],
            [
             0.8,
             "#7fbc41"
            ],
            [
             0.9,
             "#4d9221"
            ],
            [
             1,
             "#276419"
            ]
           ],
           "sequential": [
            [
             0,
             "#0d0887"
            ],
            [
             0.1111111111111111,
             "#46039f"
            ],
            [
             0.2222222222222222,
             "#7201a8"
            ],
            [
             0.3333333333333333,
             "#9c179e"
            ],
            [
             0.4444444444444444,
             "#bd3786"
            ],
            [
             0.5555555555555556,
             "#d8576b"
            ],
            [
             0.6666666666666666,
             "#ed7953"
            ],
            [
             0.7777777777777778,
             "#fb9f3a"
            ],
            [
             0.8888888888888888,
             "#fdca26"
            ],
            [
             1,
             "#f0f921"
            ]
           ],
           "sequentialminus": [
            [
             0,
             "#0d0887"
            ],
            [
             0.1111111111111111,
             "#46039f"
            ],
            [
             0.2222222222222222,
             "#7201a8"
            ],
            [
             0.3333333333333333,
             "#9c179e"
            ],
            [
             0.4444444444444444,
             "#bd3786"
            ],
            [
             0.5555555555555556,
             "#d8576b"
            ],
            [
             0.6666666666666666,
             "#ed7953"
            ],
            [
             0.7777777777777778,
             "#fb9f3a"
            ],
            [
             0.8888888888888888,
             "#fdca26"
            ],
            [
             1,
             "#f0f921"
            ]
           ]
          },
          "colorway": [
           "#636efa",
           "#EF553B",
           "#00cc96",
           "#ab63fa",
           "#FFA15A",
           "#19d3f3",
           "#FF6692",
           "#B6E880",
           "#FF97FF",
           "#FECB52"
          ],
          "font": {
           "color": "#2a3f5f"
          },
          "geo": {
           "bgcolor": "white",
           "lakecolor": "white",
           "landcolor": "#E5ECF6",
           "showlakes": true,
           "showland": true,
           "subunitcolor": "white"
          },
          "hoverlabel": {
           "align": "left"
          },
          "hovermode": "closest",
          "mapbox": {
           "style": "light"
          },
          "paper_bgcolor": "white",
          "plot_bgcolor": "#E5ECF6",
          "polar": {
           "angularaxis": {
            "gridcolor": "white",
            "linecolor": "white",
            "ticks": ""
           },
           "bgcolor": "#E5ECF6",
           "radialaxis": {
            "gridcolor": "white",
            "linecolor": "white",
            "ticks": ""
           }
          },
          "scene": {
           "xaxis": {
            "backgroundcolor": "#E5ECF6",
            "gridcolor": "white",
            "gridwidth": 2,
            "linecolor": "white",
            "showbackground": true,
            "ticks": "",
            "zerolinecolor": "white"
           },
           "yaxis": {
            "backgroundcolor": "#E5ECF6",
            "gridcolor": "white",
            "gridwidth": 2,
            "linecolor": "white",
            "showbackground": true,
            "ticks": "",
            "zerolinecolor": "white"
           },
           "zaxis": {
            "backgroundcolor": "#E5ECF6",
            "gridcolor": "white",
            "gridwidth": 2,
            "linecolor": "white",
            "showbackground": true,
            "ticks": "",
            "zerolinecolor": "white"
           }
          },
          "shapedefaults": {
           "line": {
            "color": "#2a3f5f"
           }
          },
          "ternary": {
           "aaxis": {
            "gridcolor": "white",
            "linecolor": "white",
            "ticks": ""
           },
           "baxis": {
            "gridcolor": "white",
            "linecolor": "white",
            "ticks": ""
           },
           "bgcolor": "#E5ECF6",
           "caxis": {
            "gridcolor": "white",
            "linecolor": "white",
            "ticks": ""
           }
          },
          "title": {
           "x": 0.05
          },
          "xaxis": {
           "automargin": true,
           "gridcolor": "white",
           "linecolor": "white",
           "ticks": "",
           "title": {
            "standoff": 15
           },
           "zerolinecolor": "white",
           "zerolinewidth": 2
          },
          "yaxis": {
           "automargin": true,
           "gridcolor": "white",
           "linecolor": "white",
           "ticks": "",
           "title": {
            "standoff": 15
           },
           "zerolinecolor": "white",
           "zerolinewidth": 2
          }
         }
        },
        "title": {
         "font": {
          "color": "#2c3e50",
          "family": "Arial, sans-serif",
          "size": 20
         },
         "text": "<b>Global Cybersecurity Response: Average Incident Resolution Time</b><br><sup>Mean response time from 2015-2024</sup>",
         "x": 0.5
        },
        "width": 1000
       }
      }
     },
     "metadata": {},
     "output_type": "display_data"
    }
   ],
   "source": [
    "FONT_FAMILY = \"Arial, sans-serif\"\n",
    "TITLE_SIZE = 20\n",
    "LABEL_SIZE = 14\n",
    "FIGURE_HEIGHT = 500\n",
    "FIGURE_WIDTH = 1000\n",
    "\n",
    "COLORS = {\n",
    "    'users': ['#fff5f0', '#fee0d2', '#fcbba1', '#fc9272', '#fb6a4a', '#ef3b2c', '#cb181d', '#99000d'],\n",
    "    'financial': ['#f7fbff', '#deebf7', '#c6dbef', '#9ecae1', '#6baed6', '#4292c6', '#2171b5', '#084594'],\n",
    "    'response': ['#fcfbfd', '#efedf5', '#dadaeb', '#bcbddc', '#9e9ac8', '#807dba', '#6a51a3', '#4a1486']\n",
    "}\n",
    "\n",
    "df_users = df.groupby('Country')['Number of Affected Users'].sum().reset_index()\n",
    "\n",
    "fig_users = go.Figure(data=go.Choropleth(\n",
    "    locations=df_users['Country'],\n",
    "    z=df_users['Number of Affected Users'],\n",
    "    locationmode='country names',\n",
    "    colorscale=COLORS['users'],\n",
    "    autocolorscale=False,\n",
    "    zmin=140000000,                   # min value\n",
    "    zmax=180000000,\n",
    "    text=df_users['Country'],\n",
    "    marker_line_color='darkgray',\n",
    "    marker_line_width=0.5,\n",
    "    colorbar=dict(\n",
    "        title=dict(\n",
    "            text=\"<b>Affected Users</b><br>(Millions)\",\n",
    "            font=dict(size=LABEL_SIZE, family=FONT_FAMILY)\n",
    "        ),\n",
    "        thickness=15,\n",
    "        len=0.7,\n",
    "        x=1.02,\n",
    "        tickfont=dict(size=12, family=FONT_FAMILY),\n",
    "        tickformat=\".1s\"\n",
    "    )\n",
    "))\n",
    "\n",
    "\n",
    "fig_users.update_layout(\n",
    "    title=dict(\n",
    "        text='<b>Global Cybersecurity Impact: Users Affected by Cyber Attacks</b><br><sup>Cumulative data from 2015-2024</sup>',\n",
    "        x=0.5,\n",
    "        font=dict(size=TITLE_SIZE, family=FONT_FAMILY, color='#2c3e50')\n",
    "    ),\n",
    "    geo=dict(\n",
    "        showframe=False,\n",
    "        showcoastlines=True,\n",
    "        coastlinecolor='#34495e',\n",
    "        coastlinewidth=1,\n",
    "        projection_type='equirectangular',\n",
    "        bgcolor='rgba(0,0,0,0)',\n",
    "        showlakes=True,\n",
    "        lakecolor='#ecf0f1'\n",
    "    ),\n",
    "    width=FIGURE_WIDTH,\n",
    "    height=FIGURE_HEIGHT,\n",
    "    paper_bgcolor='white',\n",
    "    plot_bgcolor='white',\n",
    "    font=dict(family=FONT_FAMILY),\n",
    "    margin=dict(l=0, r=0, t=80, b=0)\n",
    ")\n",
    "\n",
    "fig_users.show()\n",
    "\n",
    "df_loss = df.groupby('Country')['Financial Loss (in Million $)'].sum().reset_index()\n",
    "\n",
    "fig_loss = go.Figure(data=go.Choropleth(\n",
    "    locations=df_loss['Country'],\n",
    "    z=df_loss['Financial Loss (in Million $)'],\n",
    "    locationmode='country names',\n",
    "    colorscale=COLORS['financial'],\n",
    "    autocolorscale=False,\n",
    "    text=df_loss['Country'],\n",
    "    marker_line_color='darkgray',\n",
    "    marker_line_width=0.5,\n",
    "    colorbar=dict(\n",
    "        title=dict(\n",
    "            text=\"<b>Financial Loss</b><br>(Million USD)\",\n",
    "            font=dict(size=LABEL_SIZE, family=FONT_FAMILY)\n",
    "        ),\n",
    "        thickness=15,\n",
    "        len=0.7,\n",
    "        x=1.02,\n",
    "        tickfont=dict(size=12, family=FONT_FAMILY),\n",
    "        tickformat=\"$,.0f\"\n",
    "    )\n",
    "))\n",
    "\n",
    "\n",
    "fig_loss.update_layout(\n",
    "    title=dict(\n",
    "        text='<b>Global Cybersecurity Impact: Financial Losses from Cyber Attacks</b><br><sup>Cumulative losses from 2015-2024</sup>',\n",
    "        x=0.5,\n",
    "        font=dict(size=TITLE_SIZE, family=FONT_FAMILY, color='#2c3e50')\n",
    "    ),\n",
    "    geo=dict(\n",
    "        showframe=False,\n",
    "        showcoastlines=True,\n",
    "        coastlinecolor='#34495e',\n",
    "        coastlinewidth=1,\n",
    "        projection_type='equirectangular',\n",
    "        bgcolor='rgba(0,0,0,0)',\n",
    "        showlakes=True,\n",
    "        lakecolor='#ecf0f1'\n",
    "    ),\n",
    "    width=FIGURE_WIDTH,\n",
    "    height=FIGURE_HEIGHT,\n",
    "    paper_bgcolor='white',\n",
    "    plot_bgcolor='white',\n",
    "    font=dict(family=FONT_FAMILY),\n",
    "    margin=dict(l=0, r=0, t=80, b=0)\n",
    ")\n",
    "\n",
    "fig_loss.show()\n",
    "\n",
    "df_response = df.groupby('Country')['Incident Resolution Time (in Hours)'].mean().reset_index()\n",
    "\n",
    "fig_response = go.Figure(data=go.Choropleth(\n",
    "    locations=df_response['Country'],\n",
    "    z=df_response['Incident Resolution Time (in Hours)'],\n",
    "    locationmode='country names',\n",
    "    colorscale=COLORS['response'],\n",
    "    autocolorscale=False,\n",
    "    text=df_response['Country'],\n",
    "    marker_line_color='darkgray',\n",
    "    marker_line_width=0.5,\n",
    "    colorbar=dict(\n",
    "        title=dict(\n",
    "            text=\"<b>Response Time</b><br>(Hours)\",\n",
    "            font=dict(size=LABEL_SIZE, family=FONT_FAMILY)\n",
    "        ),\n",
    "        thickness=15,\n",
    "        len=0.7,\n",
    "        x=1.02,\n",
    "        tickfont=dict(size=12, family=FONT_FAMILY),\n",
    "        tickformat=\".1f\"\n",
    "    )\n",
    "))\n",
    "\n",
    "fig_response.update_layout(\n",
    "    title=dict(\n",
    "        text='<b>Global Cybersecurity Response: Average Incident Resolution Time</b><br><sup>Mean response time from 2015-2024</sup>',\n",
    "        x=0.5,\n",
    "        font=dict(size=TITLE_SIZE, family=FONT_FAMILY, color='#2c3e50')\n",
    "    ),\n",
    "    geo=dict(\n",
    "        showframe=False,\n",
    "        showcoastlines=True,\n",
    "        coastlinecolor='#34495e',\n",
    "        coastlinewidth=1,\n",
    "        projection_type='equirectangular',\n",
    "        bgcolor='rgba(0,0,0,0)',\n",
    "        showlakes=True,\n",
    "        lakecolor='#ecf0f1'\n",
    "    ),\n",
    "    width=FIGURE_WIDTH,\n",
    "    height=FIGURE_HEIGHT,\n",
    "    paper_bgcolor='white',\n",
    "    plot_bgcolor='white',\n",
    "    font=dict(family=FONT_FAMILY),\n",
    "    margin=dict(l=0, r=0, t=80, b=0)\n",
    ")\n",
    "\n",
    "fig_response.show()"
   ]
  },
  {
   "cell_type": "code",
   "execution_count": 6,
   "id": "1519a589-ca3e-4928-b819-1b974475372e",
   "metadata": {},
   "outputs": [
    {
     "data": {
      "application/vnd.plotly.v1+json": {
       "config": {
        "plotlyServerURL": "https://plot.ly"
       },
       "data": [
        {
         "branchvalues": "total",
         "customdata": {
          "bdata": "HBkc1bzRUEBl7hvZ3XFQQCo+2w8JslBA68vwulgdUUDXvDbG6ZJQQAuYsVneplBA",
          "dtype": "f8",
          "shape": "6, 1"
         },
         "domain": {
          "x": [
           0,
           1
          ],
          "y": [
           0,
           1
          ]
         },
         "hovertemplate": "labels=%{label}<br>Financial Loss (in Million $)_sum=%{value}<br>parent=%{parent}<br>id=%{id}<br>Financial Loss (in Million $)=%{color}<extra></extra>",
         "ids": [
          "Phishing",
          "Ransomware",
          "Man-in-the-Middle",
          "DDoS",
          "SQL Injection",
          "Malware"
         ],
         "labels": [
          "Phishing",
          "Ransomware",
          "Man-in-the-Middle",
          "DDoS",
          "SQL Injection",
          "Malware"
         ],
         "marker": {
          "coloraxis": "coloraxis",
          "colors": {
           "bdata": "HBkc1bzRUEBl7hvZ3XFQQCo+2w8JslBA68vwulgdUUDXvDbG6ZJQQAuYsVneplBA",
           "dtype": "f8"
          }
         },
         "name": "",
         "parents": [
          "",
          "",
          "",
          "",
          "",
          ""
         ],
         "type": "treemap",
         "values": {
          "bdata": "9ihcj1IR2kCuR+F61OfXQOF6FK63/9ZAFK5H4br72kBxPQrXI5HYQM3MzMz8Z9dA",
          "dtype": "f8"
         }
        }
       ],
       "layout": {
        "coloraxis": {
         "colorbar": {
          "title": {
           "text": "Financial Loss (in Million $)"
          }
         },
         "colorscale": [
          [
           0,
           "rgb(255,245,240)"
          ],
          [
           0.125,
           "rgb(254,224,210)"
          ],
          [
           0.25,
           "rgb(252,187,161)"
          ],
          [
           0.375,
           "rgb(252,146,114)"
          ],
          [
           0.5,
           "rgb(251,106,74)"
          ],
          [
           0.625,
           "rgb(239,59,44)"
          ],
          [
           0.75,
           "rgb(203,24,29)"
          ],
          [
           0.875,
           "rgb(165,15,21)"
          ],
          [
           1,
           "rgb(103,0,13)"
          ]
         ]
        },
        "legend": {
         "tracegroupgap": 0
        },
        "template": {
         "data": {
          "bar": [
           {
            "error_x": {
             "color": "#2a3f5f"
            },
            "error_y": {
             "color": "#2a3f5f"
            },
            "marker": {
             "line": {
              "color": "#E5ECF6",
              "width": 0.5
             },
             "pattern": {
              "fillmode": "overlay",
              "size": 10,
              "solidity": 0.2
             }
            },
            "type": "bar"
           }
          ],
          "barpolar": [
           {
            "marker": {
             "line": {
              "color": "#E5ECF6",
              "width": 0.5
             },
             "pattern": {
              "fillmode": "overlay",
              "size": 10,
              "solidity": 0.2
             }
            },
            "type": "barpolar"
           }
          ],
          "carpet": [
           {
            "aaxis": {
             "endlinecolor": "#2a3f5f",
             "gridcolor": "white",
             "linecolor": "white",
             "minorgridcolor": "white",
             "startlinecolor": "#2a3f5f"
            },
            "baxis": {
             "endlinecolor": "#2a3f5f",
             "gridcolor": "white",
             "linecolor": "white",
             "minorgridcolor": "white",
             "startlinecolor": "#2a3f5f"
            },
            "type": "carpet"
           }
          ],
          "choropleth": [
           {
            "colorbar": {
             "outlinewidth": 0,
             "ticks": ""
            },
            "type": "choropleth"
           }
          ],
          "contour": [
           {
            "colorbar": {
             "outlinewidth": 0,
             "ticks": ""
            },
            "colorscale": [
             [
              0,
              "#0d0887"
             ],
             [
              0.1111111111111111,
              "#46039f"
             ],
             [
              0.2222222222222222,
              "#7201a8"
             ],
             [
              0.3333333333333333,
              "#9c179e"
             ],
             [
              0.4444444444444444,
              "#bd3786"
             ],
             [
              0.5555555555555556,
              "#d8576b"
             ],
             [
              0.6666666666666666,
              "#ed7953"
             ],
             [
              0.7777777777777778,
              "#fb9f3a"
             ],
             [
              0.8888888888888888,
              "#fdca26"
             ],
             [
              1,
              "#f0f921"
             ]
            ],
            "type": "contour"
           }
          ],
          "contourcarpet": [
           {
            "colorbar": {
             "outlinewidth": 0,
             "ticks": ""
            },
            "type": "contourcarpet"
           }
          ],
          "heatmap": [
           {
            "colorbar": {
             "outlinewidth": 0,
             "ticks": ""
            },
            "colorscale": [
             [
              0,
              "#0d0887"
             ],
             [
              0.1111111111111111,
              "#46039f"
             ],
             [
              0.2222222222222222,
              "#7201a8"
             ],
             [
              0.3333333333333333,
              "#9c179e"
             ],
             [
              0.4444444444444444,
              "#bd3786"
             ],
             [
              0.5555555555555556,
              "#d8576b"
             ],
             [
              0.6666666666666666,
              "#ed7953"
             ],
             [
              0.7777777777777778,
              "#fb9f3a"
             ],
             [
              0.8888888888888888,
              "#fdca26"
             ],
             [
              1,
              "#f0f921"
             ]
            ],
            "type": "heatmap"
           }
          ],
          "histogram": [
           {
            "marker": {
             "pattern": {
              "fillmode": "overlay",
              "size": 10,
              "solidity": 0.2
             }
            },
            "type": "histogram"
           }
          ],
          "histogram2d": [
           {
            "colorbar": {
             "outlinewidth": 0,
             "ticks": ""
            },
            "colorscale": [
             [
              0,
              "#0d0887"
             ],
             [
              0.1111111111111111,
              "#46039f"
             ],
             [
              0.2222222222222222,
              "#7201a8"
             ],
             [
              0.3333333333333333,
              "#9c179e"
             ],
             [
              0.4444444444444444,
              "#bd3786"
             ],
             [
              0.5555555555555556,
              "#d8576b"
             ],
             [
              0.6666666666666666,
              "#ed7953"
             ],
             [
              0.7777777777777778,
              "#fb9f3a"
             ],
             [
              0.8888888888888888,
              "#fdca26"
             ],
             [
              1,
              "#f0f921"
             ]
            ],
            "type": "histogram2d"
           }
          ],
          "histogram2dcontour": [
           {
            "colorbar": {
             "outlinewidth": 0,
             "ticks": ""
            },
            "colorscale": [
             [
              0,
              "#0d0887"
             ],
             [
              0.1111111111111111,
              "#46039f"
             ],
             [
              0.2222222222222222,
              "#7201a8"
             ],
             [
              0.3333333333333333,
              "#9c179e"
             ],
             [
              0.4444444444444444,
              "#bd3786"
             ],
             [
              0.5555555555555556,
              "#d8576b"
             ],
             [
              0.6666666666666666,
              "#ed7953"
             ],
             [
              0.7777777777777778,
              "#fb9f3a"
             ],
             [
              0.8888888888888888,
              "#fdca26"
             ],
             [
              1,
              "#f0f921"
             ]
            ],
            "type": "histogram2dcontour"
           }
          ],
          "mesh3d": [
           {
            "colorbar": {
             "outlinewidth": 0,
             "ticks": ""
            },
            "type": "mesh3d"
           }
          ],
          "parcoords": [
           {
            "line": {
             "colorbar": {
              "outlinewidth": 0,
              "ticks": ""
             }
            },
            "type": "parcoords"
           }
          ],
          "pie": [
           {
            "automargin": true,
            "type": "pie"
           }
          ],
          "scatter": [
           {
            "fillpattern": {
             "fillmode": "overlay",
             "size": 10,
             "solidity": 0.2
            },
            "type": "scatter"
           }
          ],
          "scatter3d": [
           {
            "line": {
             "colorbar": {
              "outlinewidth": 0,
              "ticks": ""
             }
            },
            "marker": {
             "colorbar": {
              "outlinewidth": 0,
              "ticks": ""
             }
            },
            "type": "scatter3d"
           }
          ],
          "scattercarpet": [
           {
            "marker": {
             "colorbar": {
              "outlinewidth": 0,
              "ticks": ""
             }
            },
            "type": "scattercarpet"
           }
          ],
          "scattergeo": [
           {
            "marker": {
             "colorbar": {
              "outlinewidth": 0,
              "ticks": ""
             }
            },
            "type": "scattergeo"
           }
          ],
          "scattergl": [
           {
            "marker": {
             "colorbar": {
              "outlinewidth": 0,
              "ticks": ""
             }
            },
            "type": "scattergl"
           }
          ],
          "scattermap": [
           {
            "marker": {
             "colorbar": {
              "outlinewidth": 0,
              "ticks": ""
             }
            },
            "type": "scattermap"
           }
          ],
          "scattermapbox": [
           {
            "marker": {
             "colorbar": {
              "outlinewidth": 0,
              "ticks": ""
             }
            },
            "type": "scattermapbox"
           }
          ],
          "scatterpolar": [
           {
            "marker": {
             "colorbar": {
              "outlinewidth": 0,
              "ticks": ""
             }
            },
            "type": "scatterpolar"
           }
          ],
          "scatterpolargl": [
           {
            "marker": {
             "colorbar": {
              "outlinewidth": 0,
              "ticks": ""
             }
            },
            "type": "scatterpolargl"
           }
          ],
          "scatterternary": [
           {
            "marker": {
             "colorbar": {
              "outlinewidth": 0,
              "ticks": ""
             }
            },
            "type": "scatterternary"
           }
          ],
          "surface": [
           {
            "colorbar": {
             "outlinewidth": 0,
             "ticks": ""
            },
            "colorscale": [
             [
              0,
              "#0d0887"
             ],
             [
              0.1111111111111111,
              "#46039f"
             ],
             [
              0.2222222222222222,
              "#7201a8"
             ],
             [
              0.3333333333333333,
              "#9c179e"
             ],
             [
              0.4444444444444444,
              "#bd3786"
             ],
             [
              0.5555555555555556,
              "#d8576b"
             ],
             [
              0.6666666666666666,
              "#ed7953"
             ],
             [
              0.7777777777777778,
              "#fb9f3a"
             ],
             [
              0.8888888888888888,
              "#fdca26"
             ],
             [
              1,
              "#f0f921"
             ]
            ],
            "type": "surface"
           }
          ],
          "table": [
           {
            "cells": {
             "fill": {
              "color": "#EBF0F8"
             },
             "line": {
              "color": "white"
             }
            },
            "header": {
             "fill": {
              "color": "#C8D4E3"
             },
             "line": {
              "color": "white"
             }
            },
            "type": "table"
           }
          ]
         },
         "layout": {
          "annotationdefaults": {
           "arrowcolor": "#2a3f5f",
           "arrowhead": 0,
           "arrowwidth": 1
          },
          "autotypenumbers": "strict",
          "coloraxis": {
           "colorbar": {
            "outlinewidth": 0,
            "ticks": ""
           }
          },
          "colorscale": {
           "diverging": [
            [
             0,
             "#8e0152"
            ],
            [
             0.1,
             "#c51b7d"
            ],
            [
             0.2,
             "#de77ae"
            ],
            [
             0.3,
             "#f1b6da"
            ],
            [
             0.4,
             "#fde0ef"
            ],
            [
             0.5,
             "#f7f7f7"
            ],
            [
             0.6,
             "#e6f5d0"
            ],
            [
             0.7,
             "#b8e186"
            ],
            [
             0.8,
             "#7fbc41"
            ],
            [
             0.9,
             "#4d9221"
            ],
            [
             1,
             "#276419"
            ]
           ],
           "sequential": [
            [
             0,
             "#0d0887"
            ],
            [
             0.1111111111111111,
             "#46039f"
            ],
            [
             0.2222222222222222,
             "#7201a8"
            ],
            [
             0.3333333333333333,
             "#9c179e"
            ],
            [
             0.4444444444444444,
             "#bd3786"
            ],
            [
             0.5555555555555556,
             "#d8576b"
            ],
            [
             0.6666666666666666,
             "#ed7953"
            ],
            [
             0.7777777777777778,
             "#fb9f3a"
            ],
            [
             0.8888888888888888,
             "#fdca26"
            ],
            [
             1,
             "#f0f921"
            ]
           ],
           "sequentialminus": [
            [
             0,
             "#0d0887"
            ],
            [
             0.1111111111111111,
             "#46039f"
            ],
            [
             0.2222222222222222,
             "#7201a8"
            ],
            [
             0.3333333333333333,
             "#9c179e"
            ],
            [
             0.4444444444444444,
             "#bd3786"
            ],
            [
             0.5555555555555556,
             "#d8576b"
            ],
            [
             0.6666666666666666,
             "#ed7953"
            ],
            [
             0.7777777777777778,
             "#fb9f3a"
            ],
            [
             0.8888888888888888,
             "#fdca26"
            ],
            [
             1,
             "#f0f921"
            ]
           ]
          },
          "colorway": [
           "#636efa",
           "#EF553B",
           "#00cc96",
           "#ab63fa",
           "#FFA15A",
           "#19d3f3",
           "#FF6692",
           "#B6E880",
           "#FF97FF",
           "#FECB52"
          ],
          "font": {
           "color": "#2a3f5f"
          },
          "geo": {
           "bgcolor": "white",
           "lakecolor": "white",
           "landcolor": "#E5ECF6",
           "showlakes": true,
           "showland": true,
           "subunitcolor": "white"
          },
          "hoverlabel": {
           "align": "left"
          },
          "hovermode": "closest",
          "mapbox": {
           "style": "light"
          },
          "paper_bgcolor": "white",
          "plot_bgcolor": "#E5ECF6",
          "polar": {
           "angularaxis": {
            "gridcolor": "white",
            "linecolor": "white",
            "ticks": ""
           },
           "bgcolor": "#E5ECF6",
           "radialaxis": {
            "gridcolor": "white",
            "linecolor": "white",
            "ticks": ""
           }
          },
          "scene": {
           "xaxis": {
            "backgroundcolor": "#E5ECF6",
            "gridcolor": "white",
            "gridwidth": 2,
            "linecolor": "white",
            "showbackground": true,
            "ticks": "",
            "zerolinecolor": "white"
           },
           "yaxis": {
            "backgroundcolor": "#E5ECF6",
            "gridcolor": "white",
            "gridwidth": 2,
            "linecolor": "white",
            "showbackground": true,
            "ticks": "",
            "zerolinecolor": "white"
           },
           "zaxis": {
            "backgroundcolor": "#E5ECF6",
            "gridcolor": "white",
            "gridwidth": 2,
            "linecolor": "white",
            "showbackground": true,
            "ticks": "",
            "zerolinecolor": "white"
           }
          },
          "shapedefaults": {
           "line": {
            "color": "#2a3f5f"
           }
          },
          "ternary": {
           "aaxis": {
            "gridcolor": "white",
            "linecolor": "white",
            "ticks": ""
           },
           "baxis": {
            "gridcolor": "white",
            "linecolor": "white",
            "ticks": ""
           },
           "bgcolor": "#E5ECF6",
           "caxis": {
            "gridcolor": "white",
            "linecolor": "white",
            "ticks": ""
           }
          },
          "title": {
           "x": 0.05
          },
          "xaxis": {
           "automargin": true,
           "gridcolor": "white",
           "linecolor": "white",
           "ticks": "",
           "title": {
            "standoff": 15
           },
           "zerolinecolor": "white",
           "zerolinewidth": 2
          },
          "yaxis": {
           "automargin": true,
           "gridcolor": "white",
           "linecolor": "white",
           "ticks": "",
           "title": {
            "standoff": 15
           },
           "zerolinecolor": "white",
           "zerolinewidth": 2
          }
         }
        },
        "title": {
         "text": "Financial Loss by Attack Type"
        }
       }
      }
     },
     "metadata": {},
     "output_type": "display_data"
    }
   ],
   "source": [
    "treemap1 = px.treemap(\n",
    "    df, \n",
    "    path=[\"Attack Type\"], \n",
    "    values=\"Financial Loss (in Million $)\", \n",
    "    title=\"Financial Loss by Attack Type\",\n",
    "    color=\"Financial Loss (in Million $)\", \n",
    "    color_continuous_scale=\"Reds\"\n",
    ")\n",
    "treemap1.show()"
   ]
  },
  {
   "cell_type": "markdown",
   "id": "34e6cc87-6911-4d7d-9361-4b9c9190389a",
   "metadata": {},
   "source": [
    "# Grafici"
   ]
  },
  {
   "cell_type": "code",
   "execution_count": 7,
   "id": "fb3b7605-50e7-448f-b77c-fed9a16b0d87",
   "metadata": {
    "scrolled": true
   },
   "outputs": [
    {
     "data": {
      "image/png": "[encoded data removed]",
      "text/plain": [
       "<Figure size 800x500 with 1 Axes>"
      ]
     },
     "metadata": {},
     "output_type": "display_data"
    },
    {
     "data": {
      "image/png": "[encoded data removed]",
      "text/plain": [
       "<Figure size 800x500 with 1 Axes>"
      ]
     },
     "metadata": {},
     "output_type": "display_data"
    },
    {
     "data": {
      "image/png": "[encoded data removed]",
      "text/plain": [
       "<Figure size 800x500 with 1 Axes>"
      ]
     },
     "metadata": {},
     "output_type": "display_data"
    },
    {
     "data": {
      "image/png": "[encoded data removed]",
      "text/plain": [
       "<Figure size 1000x500 with 1 Axes>"
      ]
     },
     "metadata": {},
     "output_type": "display_data"
    },
    {
     "data": {
      "image/png": "[encoded data removed]",
      "text/plain": [
       "<Figure size 800x500 with 1 Axes>"
      ]
     },
     "metadata": {},
     "output_type": "display_data"
    },
    {
     "data": {
      "image/png": "[encoded data removed]",
      "text/plain": [
       "<Figure size 800x500 with 1 Axes>"
      ]
     },
     "metadata": {},
     "output_type": "display_data"
    },
    {
     "data": {
      "image/png": "[encoded data removed]",
      "text/plain": [
       "<Figure size 800x500 with 1 Axes>"
      ]
     },
     "metadata": {},
     "output_type": "display_data"
    }
   ],
   "source": [
    "sns.set_style(\"whitegrid\") \n",
    "plt.rcParams['figure.facecolor'] = 'white'  \n",
    "\n",
    "def plot_elegant_barh(series, title, xlabel, ylabel, figsize=(8,5), top_n=None, xlim=None):\n",
    "    if top_n is not None:\n",
    "        data = series.value_counts().head(top_n)\n",
    "    else:\n",
    "        data = series.value_counts()\n",
    "    \n",
    "    plt.figure(figsize=figsize)\n",
    "    ax = sns.barplot(x=data.values, y=data.index, hue=data.index,\n",
    "                    edgecolor='darkgray', linewidth=0.5,\n",
    "                    palette=\"viridis\", legend=False)\n",
    "    \n",
    "    # Annotazioni\n",
    "    for i, v in enumerate(data.values):\n",
    "        ax.text(v + max(data.values)*0.01, i, f\"{v:,}\",\n",
    "                color='black', ha='left', va='center', fontsize=10)\n",
    "    \n",
    "    plt.title(title, fontsize=16, pad=20, fontweight='bold')\n",
    "    plt.xlabel(xlabel, fontsize=12, labelpad=10)\n",
    "    plt.ylabel(ylabel, fontsize=12, labelpad=10)\n",
    "    \n",
    "    plt.xticks(fontsize=10)\n",
    "    plt.yticks(fontsize=10)\n",
    "    ax.axvline(0, color='gray', linewidth=0.5)\n",
    "    plt.gca().margins(y=0.03)\n",
    "    \n",
    "    # Calcola xlim se non è passato\n",
    "    if xlim is None:\n",
    "        max_val = max(data.values)\n",
    "        min_val = min(data.values)\n",
    "        # Se i valori sono vicini, restringi il range attorno a min e max\n",
    "        delta = (max_val - min_val) * 0.2  # margine del 20%\n",
    "        xlim = (min_val - delta, max_val + delta)\n",
    "    \n",
    "    plt.xlim(xlim)\n",
    "    \n",
    "    sns.despine(left=True, bottom=True)\n",
    "    plt.tight_layout()\n",
    "    plt.show()\n",
    "\n",
    "\n",
    "def plot_elegant_line(series, title, xlabel, ylabel, figsize=(10,5)):\n",
    "    data = series.value_counts().sort_index()\n",
    "    \n",
    "    plt.figure(figsize=figsize)\n",
    "    ax = sns.lineplot(x=data.index, y=data.values, \n",
    "                     marker='o', markersize=8, linewidth=2.5)\n",
    "    \n",
    "    for x, y in zip(data.index, data.values):\n",
    "        ax.text(x, y+5, str(y), color='black', ha='center', va='bottom')\n",
    "    \n",
    "    plt.title(title, fontsize=14, pad=20)\n",
    "    plt.xlabel(xlabel, fontsize=12, labelpad=10) #da sistemare per visualizzazione da cellulare\n",
    "    plt.ylabel(ylabel, fontsize=12, labelpad=10)\n",
    "    \n",
    "    plt.xticks(data.index, rotation=45)\n",
    "    \n",
    "    sns.despine()\n",
    "    plt.grid(axis='y', alpha=0.3)\n",
    "    plt.tight_layout()\n",
    "    plt.show()\n",
    "    \n",
    "#plt calls\n",
    "\n",
    "plot_elegant_barh(df[\"Country\"], \n",
    "                 \"Top 10 Countries with Cybersecurity Threats\", \n",
    "                 \"Number of Threats\", \n",
    "                 \"Country\",\n",
    "                  xlim=(275,325),\n",
    "                 top_n=10)\n",
    "\n",
    "plot_elegant_barh(df[\"Attack Type\"], \n",
    "                 \"Distribution of Attack Types\", \n",
    "                 \"Number of Attacks\", \"Attack Type\")\n",
    "\n",
    "plot_elegant_barh(df[\"Target Industry\"], \n",
    "                 \"Top 10 Targeted Industries\", \n",
    "                 \"Number of Attacks\", \"Target Industry\", top_n=10)\n",
    "\n",
    "plot_elegant_line(df[\"Year\"], \n",
    "                 \"Cybersecurity Threats Over the Years\", \n",
    "                 \"Year\", \"Number of Threats\")\n",
    "\n",
    "plot_elegant_barh(df[\"Security Vulnerability Type\"], \n",
    "                 \"Top 10 Security Vulnerability Types\", \n",
    "                 \"Number of Vulnerabilities\", \"Vulnerability Type\", top_n=10)\n",
    "\n",
    "plot_elegant_barh(df[\"Defense Mechanism Used\"], \n",
    "                 \"Top 10 Defense Mechanisms Used\", \n",
    "                 \"Number of Mechanisms\", \"Defense Mechanism\", top_n=10)\n",
    "\n",
    "plot_elegant_barh(df[\"Attack Source\"], \n",
    "                 \"Most Common Attack Sources\", \n",
    "                 \"Number of Attacks\", \"Attack Source\")"
   ]
  },
  {
   "cell_type": "markdown",
   "id": "31559e71-bd22-48b9-a513-f83677848e49",
   "metadata": {},
   "source": [
    "# Riassumendo dai grafici sopra"
   ]
  },
  {
   "cell_type": "markdown",
   "id": "46767f20-7c56-437c-a588-c2e9414f2b1c",
   "metadata": {},
   "source": [
    "#### 1. Paesi più attaccati\n",
    "\n",
    "1) Gran Bretagna\n",
    "2) Brasile\n",
    "3) India\n",
    "4) Giappone\n",
    "5) Francia\n",
    "6) Australia\n",
    "..."
   ]
  },
  {
   "cell_type": "markdown",
   "id": "96cd0298-35f1-4a72-8efb-c7ee96ad6a15",
   "metadata": {},
   "source": [
    "#### 2. Metodi più utilizzati (ed efficaci)\n",
    "\n",
    "1) Attacchi DDoS\n",
    "2) Phishing\n",
    "3) SQL injection\n",
    "4) Ransomware\n",
    "5) Malware\n",
    "6) Attacchi MitM"
   ]
  },
  {
   "cell_type": "markdown",
   "id": "6aff675d-997f-49e8-904d-5c75a284f96b",
   "metadata": {},
   "source": [
    "#### 3. Settori lavorativi più attaccati\n",
    "\n",
    "1) Area IT (settore informatico)\n",
    "2) Bancario\n",
    "3) Salute\n",
    "4) Vendite\n",
    "5) Educazione (scuole, biblioteche, università)\n",
    "6) Governo"
   ]
  },
  {
   "cell_type": "markdown",
   "id": "88558006-07cf-474a-8907-7c22c6acf839",
   "metadata": {},
   "source": [
    "#### 4. Gli anni con più attacchi\n",
    "\n",
    "1) 2017\n",
    "2) 2022\n",
    "3) 2020 e 2023"
   ]
  },
  {
   "cell_type": "markdown",
   "id": "a782260c-52ad-43a3-9514-caea72e5023d",
   "metadata": {},
   "source": [
    "#### 5. Vulnerabilità più utilizzate\n",
    "\n",
    "1) Zero-day\n",
    "2) Social-engineering\n",
    "3) Software non aggiornato\n",
    "4) Password deboli"
   ]
  },
  {
   "cell_type": "markdown",
   "id": "7893a4e4-2368-44d3-8aa0-43bc82d96b5a",
   "metadata": {},
   "source": [
    "#### 6. Sistemi di mitigazione più usati\n",
    "\n",
    "1) Antivirus\n",
    "2) VPN\n",
    "3) Cifratura\n",
    "4) Firewall\n",
    "5) Rilevamento basato su IA"
   ]
  },
  {
   "cell_type": "markdown",
   "id": "a3a8f49b-7238-4cf0-8460-3b64270683a9",
   "metadata": {},
   "source": [
    "#### 7. Fonti più comuni degli attacchi\n",
    "\n",
    "1) Nazioni/stati\n",
    "2) Sconosciuto (molto probabilmente individui in gruppo o singoli non conosciuti)ù\n",
    "3) Insiders\n",
    "4) Gruppi hacker"
   ]
  },
  {
   "cell_type": "markdown",
   "id": "1767a13b-a82b-48b6-bc07-0260e1829eab",
   "metadata": {},
   "source": [
    "## Trend annuali di utenti affetti"
   ]
  },
  {
   "cell_type": "code",
   "execution_count": 8,
   "id": "c23d72be-6606-4d03-a4b6-8e40f4db9974",
   "metadata": {},
   "outputs": [
    {
     "data": {
      "image/png": "[encoded data removed]",
      "text/plain": [
       "<Figure size 1000x600 with 1 Axes>"
      ]
     },
     "metadata": {},
     "output_type": "display_data"
    }
   ],
   "source": [
    "plt.figure(figsize=(10, 6), dpi=100) \n",
    "plt.style.use('seaborn-v0_8-whitegrid')\n",
    "\n",
    "ax = sns.lineplot(\n",
    "    x=\"Year\", \n",
    "    y=\"Number of Affected Users\", \n",
    "    data=df, \n",
    "    color='#2c7bb6',\n",
    "    linewidth=2.5,\n",
    "    marker='o',\n",
    "    markersize=8,\n",
    "    markeredgecolor='white',\n",
    "    markeredgewidth=1\n",
    ")\n",
    "\n",
    "plt.title(\"Annual Trend of Affected Users\", \n",
    "          fontsize=14, pad=20, fontweight='bold')\n",
    "plt.xlabel(\"Year\", fontsize=12, labelpad=10)\n",
    "plt.ylabel(\"Number of Affected Users\", fontsize=12, labelpad=10)\n",
    "\n",
    "plt.xticks(fontsize=10)\n",
    "plt.yticks(fontsize=10)\n",
    "ax.yaxis.set_major_formatter(plt.FuncFormatter(lambda x, loc: \"{:,}\".format(int(x))))\n",
    "\n",
    "if len(df) <= 15:\n",
    "    for x, y in zip(df[\"Year\"], df[\"Number of Affected Users\"]):\n",
    "        ax.text(x, y, f\"{y:,}\", \n",
    "                color='#2c7bb6', \n",
    "                fontsize=9, \n",
    "                ha='center', \n",
    "                va='bottom')\n",
    "\n",
    "ax.spines['top'].set_visible(False)\n",
    "ax.spines['right'].set_visible(False)\n",
    "\n",
    "ax.set_facecolor('#f5f5f5')\n",
    "\n",
    "plt.tight_layout()\n",
    "plt.show()"
   ]
  },
  {
   "cell_type": "markdown",
   "id": "1ee550c3-98f8-44ba-a111-760696932cd8",
   "metadata": {},
   "source": [
    "Nel 2021 c'è stato l'apice del numero di utenti attaccati direttamente o influenzati indirettamente con quasi 520.000 persone affette."
   ]
  },
  {
   "cell_type": "markdown",
   "id": "09ebee3a-bb5e-4d07-bac5-9f1478857d3a",
   "metadata": {},
   "source": [
    "## N° attachi per paese"
   ]
  },
  {
   "cell_type": "code",
   "execution_count": 9,
   "id": "65ab0009-e801-4152-a953-37ea02af6d04",
   "metadata": {},
   "outputs": [
    {
     "data": {
      "image/png": "[encoded data removed]",
      "text/plain": [
       "<Figure size 1200x800 with 1 Axes>"
      ]
     },
     "metadata": {},
     "output_type": "display_data"
    }
   ],
   "source": [
    "sns.set_style(\"whitegrid\")\n",
    "sns.set_palette(\"pastel\")  \n",
    "plt.rcParams['figure.facecolor'] = 'white' \n",
    "\n",
    "plt.figure(figsize=(12, 8)) #dimensioni maggiori per maggiore chiarezza\n",
    "\n",
    "#countplot\n",
    "ax = sns.countplot(\n",
    "    data=df, \n",
    "    y=\"Country\", \n",
    "    order=df[\"Country\"].value_counts().index, \n",
    "    hue=\"Year\", \n",
    "    palette=\"viridis\"\n",
    ")\n",
    "\n",
    "plt.title(\"Countries Attack by Year\", fontsize=14, pad=20, fontweight='bold')\n",
    "plt.xlabel(\"Number of Attacks\", fontsize=12, labelpad=10)\n",
    "plt.ylabel(\"Country\", fontsize=12, labelpad=10)\n",
    "\n",
    "plt.xticks(fontsize=10)\n",
    "plt.yticks(fontsize=10)\n",
    "\n",
    "plt.legend(title=\"Year\", loc=\"upper left\", bbox_to_anchor=(1, 1), fontsize=9, title_fontsize=10)\n",
    "\n",
    "ax.spines['top'].set_visible(False)\n",
    "ax.spines['right'].set_visible(False)\n",
    "\n",
    "ax.set_facecolor('#f5f5f5')\n",
    "plt.tight_layout()\n",
    "plt.show()"
   ]
  },
  {
   "cell_type": "markdown",
   "id": "21bf80db-ce35-40a6-9162-1d6cf2d9b398",
   "metadata": {},
   "source": [
    "# Distribuzioni e fit"
   ]
  },
  {
   "cell_type": "markdown",
   "id": "3f362a02-c3e7-48f5-b8b1-a25920904bb7",
   "metadata": {},
   "source": [
    "Procediamo ora con l’analisi dei dati mediante grafici a colonne, al fine di stimare una linea di tendenza (fit) che rappresenti al meglio l’andamento osservato."
   ]
  },
  {
   "cell_type": "code",
   "execution_count": 10,
   "id": "8a6a1eb9-b8a1-411c-b94f-178f65084f00",
   "metadata": {
    "scrolled": true
   },
   "outputs": [
    {
     "data": {
      "image/png": "[encoded data removed]",
      "text/plain": [
       "<Figure size 1000x600 with 1 Axes>"
      ]
     },
     "metadata": {},
     "output_type": "display_data"
    },
    {
     "data": {
      "image/png": "[encoded data removed]",
      "text/plain": [
       "<Figure size 1000x600 with 1 Axes>"
      ]
     },
     "metadata": {},
     "output_type": "display_data"
    }
   ],
   "source": [
    "cols = ['Financial Loss (in Million $)', 'Number of Affected Users']\n",
    "\n",
    "for col in cols:\n",
    "    plt.figure(figsize=(10, 6))\n",
    "    sns.histplot(df[col], kde=True, bins=30)\n",
    "    plt.title(f'Distribution of {col}')\n",
    "    plt.xlabel(col)\n",
    "    plt.ylabel('Frequency')\n",
    "    plt.tight_layout()\n",
    "    plt.show()"
   ]
  },
  {
   "cell_type": "markdown",
   "id": "1f45f48a-4a53-447a-b17c-4f64313a2c92",
   "metadata": {},
   "source": [
    "Statisticamente parlando, guardando la linea di fit, potremmo dire che, in entrambi i grafici, gli eventi ed i dati tratti dal dataset seguano una _distribuzione_ **uniforme** oppure detta **multimodale piatta**. Ce lo conferma l'immagine sottostante."
   ]
  },
  {
   "attachments": {
    "57cb8f77-f5af-40be-be71-d71416505b9d.jpg": {
     "image/jpeg": "[encoded data removed]"
    }
   },
   "cell_type": "markdown",
   "id": "6068b4be-c785-4ba5-9858-a104196915a9",
   "metadata": {},
   "source": [
    "![E89Ge.jpg](attachment:57cb8f77-f5af-40be-be71-d71416505b9d.jpg)"
   ]
  },
  {
   "cell_type": "markdown",
   "id": "94d94b13-826a-450e-906f-3b9e5e92dc4d",
   "metadata": {},
   "source": [
    "---"
   ]
  },
  {
   "cell_type": "markdown",
   "id": "81c4221b-9747-4743-a990-43bead4fa183",
   "metadata": {},
   "source": [
    "# Previsioni future"
   ]
  },
  {
   "cell_type": "markdown",
   "id": "c2572d07-8d9b-4452-9113-c026fcca0c78",
   "metadata": {},
   "source": [
    "Usiamo la libreria sklearn per applicare un modello di approssimazione supervisionato al nostro dataset con lo scopo di individuare quali saranno i trend futuri."
   ]
  },
  {
   "cell_type": "code",
   "execution_count": 12,
   "id": "e4571efe-4d4b-431a-8a85-4ec1ff386c62",
   "metadata": {},
   "outputs": [],
   "source": [
    "from sklearn.linear_model import LinearRegression\n",
    "from sklearn.preprocessing import PolynomialFeatures\n",
    "from sklearn.metrics import r2_score"
   ]
  },
  {
   "cell_type": "code",
   "execution_count": 13,
   "id": "36df4b6d-bd17-4b26-ae8a-42dbc4253f9b",
   "metadata": {
    "jupyter": {
     "source_hidden": true
    },
    "scrolled": true
   },
   "outputs": [
    {
     "data": {
      "image/png": "[encoded data removed]",
      "text/plain": [
       "<Figure size 1000x600 with 1 Axes>"
      ]
     },
     "metadata": {},
     "output_type": "display_data"
    },
    {
     "name": "stdout",
     "output_type": "stream",
     "text": [
      "Previsione per il periodo 2024-2034:\n",
      "    Year  Predicted Affected Users\n",
      "0   2024                    504487\n",
      "1   2025                    496364\n",
      "2   2026                    482704\n",
      "3   2027                    462393\n",
      "4   2028                    434322\n",
      "5   2029                    397380\n",
      "6   2030                    350453\n",
      "7   2031                    292433\n",
      "8   2032                    222206\n",
      "9   2033                    138662\n",
      "10  2034                     40689\n",
      "R²: 0.1683\n"
     ]
    }
   ],
   "source": [
    "yearly_data = df.groupby('Year')['Number of Affected Users'].mean().reset_index()\n",
    "\n",
    "X = yearly_data['Year'].values.reshape(-1, 1)\n",
    "y = yearly_data['Number of Affected Users'].values\n",
    "\n",
    "poly = PolynomialFeatures(degree=3)\n",
    "X_poly = poly.fit_transform(X)\n",
    "\n",
    "model = LinearRegression()\n",
    "model.fit(X_poly, y)\n",
    "\n",
    "future_years = np.arange(2024, 2035).reshape(-1, 1)\n",
    "future_years_poly = poly.transform(future_years)\n",
    "predictions = model.predict(future_years_poly)\n",
    "\n",
    "results = pd.DataFrame({\n",
    "    'Year': future_years.flatten(),\n",
    "    'Predicted Affected Users': predictions.round(0).astype(int)\n",
    "})\n",
    "#plot show\n",
    "plt.figure(figsize=(10, 6))\n",
    "plt.scatter(yearly_data['Year'], yearly_data['Number of Affected Users'], color='blue', label='Dati storici')\n",
    "plt.plot(future_years, predictions, color='red', label='Previsione')\n",
    "plt.title('Forecast of Number of Affected Users (2024-2034)')\n",
    "plt.xlabel('Year')\n",
    "plt.ylabel('Number of Affected Users')\n",
    "plt.legend()\n",
    "plt.grid(True)\n",
    "plt.gca().xaxis.set_major_formatter(plt.FuncFormatter(lambda x, _: f'{int(x)}')) #toglie gli anni come float\n",
    "plt.show()\n",
    "\n",
    "#=====print valori utili=====#\n",
    "\n",
    "print(\"Previsione per il periodo 2024-2034:\")\n",
    "print(results)\n",
    "y_pred = model.predict(X_poly)\n",
    "\n",
    "#calcolo R^2\n",
    "r2 = r2_score(y, y_pred)\n",
    "print(f\"R²: {r2:.4f}\")"
   ]
  },
  {
   "cell_type": "markdown",
   "id": "5916c3df-8c10-48f5-87a9-41e33269682f",
   "metadata": {},
   "source": [
    "R^2 indica il coefficiente di determinazione, in altre parole, quanto preciso è il nostro modello di previsione. Nel nostro caso abbiamo ottenuto un 16,8%, quasi 17%. Il modello non è preciso, probabilmente per la scarsa quantità di dati come risorsa."
   ]
  },
  {
   "cell_type": "markdown",
   "id": "80ede94a-b416-44a1-9a96-309f4d631713",
   "metadata": {},
   "source": [
    "---"
   ]
  },
  {
   "cell_type": "code",
   "execution_count": null,
   "id": "097f677b",
   "metadata": {},
   "outputs": [],
   "source": []
  }
 ],
 "metadata": {
  "kernelspec": {
   "display_name": "Python 3 (ipykernel)",
   "language": "python",
   "name": "python3"
  },
  "language_info": {
   "codemirror_mode": {
    "name": "ipython",
    "version": 3
   },
   "file_extension": ".py",
   "mimetype": "text/x-python",
   "name": "python",
   "nbconvert_exporter": "python",
   "pygments_lexer": "ipython3",
   "version": "3.11.9"
  }
 },
 "nbformat": 4,
 "nbformat_minor": 5
}
